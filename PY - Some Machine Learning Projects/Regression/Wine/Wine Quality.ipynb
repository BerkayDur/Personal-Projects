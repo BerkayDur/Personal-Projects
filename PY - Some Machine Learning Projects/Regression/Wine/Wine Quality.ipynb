{
 "cells": [
  {
   "cell_type": "code",
   "execution_count": 1,
   "id": "champion-radio",
   "metadata": {},
   "outputs": [],
   "source": [
    "import pandas as pd\n",
    "import numpy as np\n",
    "import matplotlib.pylab as plt"
   ]
  },
  {
   "cell_type": "code",
   "execution_count": 207,
   "id": "vietnamese-placement",
   "metadata": {},
   "outputs": [],
   "source": [
    "import os, sys\n",
    "\n",
    "path_red = os.path.join(sys.path[0],\"winequality-red.csv\")\n",
    "path_white = os.path.join(sys.path[0],\"winequality-white.csv\")"
   ]
  },
  {
   "cell_type": "code",
   "execution_count": 208,
   "id": "documentary-titanium",
   "metadata": {},
   "outputs": [],
   "source": [
    "data_red = pd.read_csv(path_red, sep=\";\")\n",
    "data_white = pd.read_csv(path_white, sep=\";\")"
   ]
  },
  {
   "cell_type": "code",
   "execution_count": 209,
   "id": "controlled-mainstream",
   "metadata": {},
   "outputs": [
    {
     "data": {
      "text/html": [
       "<div>\n",
       "<style scoped>\n",
       "    .dataframe tbody tr th:only-of-type {\n",
       "        vertical-align: middle;\n",
       "    }\n",
       "\n",
       "    .dataframe tbody tr th {\n",
       "        vertical-align: top;\n",
       "    }\n",
       "\n",
       "    .dataframe thead th {\n",
       "        text-align: right;\n",
       "    }\n",
       "</style>\n",
       "<table border=\"1\" class=\"dataframe\">\n",
       "  <thead>\n",
       "    <tr style=\"text-align: right;\">\n",
       "      <th></th>\n",
       "      <th>fixed acidity</th>\n",
       "      <th>volatile acidity</th>\n",
       "      <th>citric acid</th>\n",
       "      <th>residual sugar</th>\n",
       "      <th>chlorides</th>\n",
       "      <th>free sulfur dioxide</th>\n",
       "      <th>total sulfur dioxide</th>\n",
       "      <th>density</th>\n",
       "      <th>pH</th>\n",
       "      <th>sulphates</th>\n",
       "      <th>alcohol</th>\n",
       "      <th>quality</th>\n",
       "    </tr>\n",
       "  </thead>\n",
       "  <tbody>\n",
       "    <tr>\n",
       "      <th>0</th>\n",
       "      <td>7.4</td>\n",
       "      <td>0.70</td>\n",
       "      <td>0.00</td>\n",
       "      <td>1.9</td>\n",
       "      <td>0.076</td>\n",
       "      <td>11.0</td>\n",
       "      <td>34.0</td>\n",
       "      <td>0.9978</td>\n",
       "      <td>3.51</td>\n",
       "      <td>0.56</td>\n",
       "      <td>9.4</td>\n",
       "      <td>5</td>\n",
       "    </tr>\n",
       "    <tr>\n",
       "      <th>1</th>\n",
       "      <td>7.8</td>\n",
       "      <td>0.88</td>\n",
       "      <td>0.00</td>\n",
       "      <td>2.6</td>\n",
       "      <td>0.098</td>\n",
       "      <td>25.0</td>\n",
       "      <td>67.0</td>\n",
       "      <td>0.9968</td>\n",
       "      <td>3.20</td>\n",
       "      <td>0.68</td>\n",
       "      <td>9.8</td>\n",
       "      <td>5</td>\n",
       "    </tr>\n",
       "    <tr>\n",
       "      <th>2</th>\n",
       "      <td>7.8</td>\n",
       "      <td>0.76</td>\n",
       "      <td>0.04</td>\n",
       "      <td>2.3</td>\n",
       "      <td>0.092</td>\n",
       "      <td>15.0</td>\n",
       "      <td>54.0</td>\n",
       "      <td>0.9970</td>\n",
       "      <td>3.26</td>\n",
       "      <td>0.65</td>\n",
       "      <td>9.8</td>\n",
       "      <td>5</td>\n",
       "    </tr>\n",
       "    <tr>\n",
       "      <th>3</th>\n",
       "      <td>11.2</td>\n",
       "      <td>0.28</td>\n",
       "      <td>0.56</td>\n",
       "      <td>1.9</td>\n",
       "      <td>0.075</td>\n",
       "      <td>17.0</td>\n",
       "      <td>60.0</td>\n",
       "      <td>0.9980</td>\n",
       "      <td>3.16</td>\n",
       "      <td>0.58</td>\n",
       "      <td>9.8</td>\n",
       "      <td>6</td>\n",
       "    </tr>\n",
       "    <tr>\n",
       "      <th>4</th>\n",
       "      <td>7.4</td>\n",
       "      <td>0.70</td>\n",
       "      <td>0.00</td>\n",
       "      <td>1.9</td>\n",
       "      <td>0.076</td>\n",
       "      <td>11.0</td>\n",
       "      <td>34.0</td>\n",
       "      <td>0.9978</td>\n",
       "      <td>3.51</td>\n",
       "      <td>0.56</td>\n",
       "      <td>9.4</td>\n",
       "      <td>5</td>\n",
       "    </tr>\n",
       "  </tbody>\n",
       "</table>\n",
       "</div>"
      ],
      "text/plain": [
       "   fixed acidity  volatile acidity  citric acid  residual sugar  chlorides  \\\n",
       "0            7.4              0.70         0.00             1.9      0.076   \n",
       "1            7.8              0.88         0.00             2.6      0.098   \n",
       "2            7.8              0.76         0.04             2.3      0.092   \n",
       "3           11.2              0.28         0.56             1.9      0.075   \n",
       "4            7.4              0.70         0.00             1.9      0.076   \n",
       "\n",
       "   free sulfur dioxide  total sulfur dioxide  density    pH  sulphates  \\\n",
       "0                 11.0                  34.0   0.9978  3.51       0.56   \n",
       "1                 25.0                  67.0   0.9968  3.20       0.68   \n",
       "2                 15.0                  54.0   0.9970  3.26       0.65   \n",
       "3                 17.0                  60.0   0.9980  3.16       0.58   \n",
       "4                 11.0                  34.0   0.9978  3.51       0.56   \n",
       "\n",
       "   alcohol  quality  \n",
       "0      9.4        5  \n",
       "1      9.8        5  \n",
       "2      9.8        5  \n",
       "3      9.8        6  \n",
       "4      9.4        5  "
      ]
     },
     "execution_count": 209,
     "metadata": {},
     "output_type": "execute_result"
    }
   ],
   "source": [
    "data_red.head()"
   ]
  },
  {
   "cell_type": "code",
   "execution_count": 210,
   "id": "informed-surname",
   "metadata": {},
   "outputs": [
    {
     "data": {
      "text/html": [
       "<div>\n",
       "<style scoped>\n",
       "    .dataframe tbody tr th:only-of-type {\n",
       "        vertical-align: middle;\n",
       "    }\n",
       "\n",
       "    .dataframe tbody tr th {\n",
       "        vertical-align: top;\n",
       "    }\n",
       "\n",
       "    .dataframe thead th {\n",
       "        text-align: right;\n",
       "    }\n",
       "</style>\n",
       "<table border=\"1\" class=\"dataframe\">\n",
       "  <thead>\n",
       "    <tr style=\"text-align: right;\">\n",
       "      <th></th>\n",
       "      <th>fixed acidity</th>\n",
       "      <th>volatile acidity</th>\n",
       "      <th>citric acid</th>\n",
       "      <th>residual sugar</th>\n",
       "      <th>chlorides</th>\n",
       "      <th>free sulfur dioxide</th>\n",
       "      <th>total sulfur dioxide</th>\n",
       "      <th>density</th>\n",
       "      <th>pH</th>\n",
       "      <th>sulphates</th>\n",
       "      <th>alcohol</th>\n",
       "      <th>quality</th>\n",
       "    </tr>\n",
       "  </thead>\n",
       "  <tbody>\n",
       "    <tr>\n",
       "      <th>0</th>\n",
       "      <td>7.0</td>\n",
       "      <td>0.27</td>\n",
       "      <td>0.36</td>\n",
       "      <td>20.7</td>\n",
       "      <td>0.045</td>\n",
       "      <td>45.0</td>\n",
       "      <td>170.0</td>\n",
       "      <td>1.0010</td>\n",
       "      <td>3.00</td>\n",
       "      <td>0.45</td>\n",
       "      <td>8.8</td>\n",
       "      <td>6</td>\n",
       "    </tr>\n",
       "    <tr>\n",
       "      <th>1</th>\n",
       "      <td>6.3</td>\n",
       "      <td>0.30</td>\n",
       "      <td>0.34</td>\n",
       "      <td>1.6</td>\n",
       "      <td>0.049</td>\n",
       "      <td>14.0</td>\n",
       "      <td>132.0</td>\n",
       "      <td>0.9940</td>\n",
       "      <td>3.30</td>\n",
       "      <td>0.49</td>\n",
       "      <td>9.5</td>\n",
       "      <td>6</td>\n",
       "    </tr>\n",
       "    <tr>\n",
       "      <th>2</th>\n",
       "      <td>8.1</td>\n",
       "      <td>0.28</td>\n",
       "      <td>0.40</td>\n",
       "      <td>6.9</td>\n",
       "      <td>0.050</td>\n",
       "      <td>30.0</td>\n",
       "      <td>97.0</td>\n",
       "      <td>0.9951</td>\n",
       "      <td>3.26</td>\n",
       "      <td>0.44</td>\n",
       "      <td>10.1</td>\n",
       "      <td>6</td>\n",
       "    </tr>\n",
       "    <tr>\n",
       "      <th>3</th>\n",
       "      <td>7.2</td>\n",
       "      <td>0.23</td>\n",
       "      <td>0.32</td>\n",
       "      <td>8.5</td>\n",
       "      <td>0.058</td>\n",
       "      <td>47.0</td>\n",
       "      <td>186.0</td>\n",
       "      <td>0.9956</td>\n",
       "      <td>3.19</td>\n",
       "      <td>0.40</td>\n",
       "      <td>9.9</td>\n",
       "      <td>6</td>\n",
       "    </tr>\n",
       "    <tr>\n",
       "      <th>4</th>\n",
       "      <td>7.2</td>\n",
       "      <td>0.23</td>\n",
       "      <td>0.32</td>\n",
       "      <td>8.5</td>\n",
       "      <td>0.058</td>\n",
       "      <td>47.0</td>\n",
       "      <td>186.0</td>\n",
       "      <td>0.9956</td>\n",
       "      <td>3.19</td>\n",
       "      <td>0.40</td>\n",
       "      <td>9.9</td>\n",
       "      <td>6</td>\n",
       "    </tr>\n",
       "  </tbody>\n",
       "</table>\n",
       "</div>"
      ],
      "text/plain": [
       "   fixed acidity  volatile acidity  citric acid  residual sugar  chlorides  \\\n",
       "0            7.0              0.27         0.36            20.7      0.045   \n",
       "1            6.3              0.30         0.34             1.6      0.049   \n",
       "2            8.1              0.28         0.40             6.9      0.050   \n",
       "3            7.2              0.23         0.32             8.5      0.058   \n",
       "4            7.2              0.23         0.32             8.5      0.058   \n",
       "\n",
       "   free sulfur dioxide  total sulfur dioxide  density    pH  sulphates  \\\n",
       "0                 45.0                 170.0   1.0010  3.00       0.45   \n",
       "1                 14.0                 132.0   0.9940  3.30       0.49   \n",
       "2                 30.0                  97.0   0.9951  3.26       0.44   \n",
       "3                 47.0                 186.0   0.9956  3.19       0.40   \n",
       "4                 47.0                 186.0   0.9956  3.19       0.40   \n",
       "\n",
       "   alcohol  quality  \n",
       "0      8.8        6  \n",
       "1      9.5        6  \n",
       "2     10.1        6  \n",
       "3      9.9        6  \n",
       "4      9.9        6  "
      ]
     },
     "execution_count": 210,
     "metadata": {},
     "output_type": "execute_result"
    }
   ],
   "source": [
    "data_white.head()"
   ]
  },
  {
   "cell_type": "code",
   "execution_count": 211,
   "id": "sealed-merit",
   "metadata": {},
   "outputs": [
    {
     "name": "stdout",
     "output_type": "stream",
     "text": [
      "<class 'pandas.core.frame.DataFrame'>\n",
      "RangeIndex: 1599 entries, 0 to 1598\n",
      "Data columns (total 12 columns):\n",
      " #   Column                Non-Null Count  Dtype  \n",
      "---  ------                --------------  -----  \n",
      " 0   fixed acidity         1599 non-null   float64\n",
      " 1   volatile acidity      1599 non-null   float64\n",
      " 2   citric acid           1599 non-null   float64\n",
      " 3   residual sugar        1599 non-null   float64\n",
      " 4   chlorides             1599 non-null   float64\n",
      " 5   free sulfur dioxide   1599 non-null   float64\n",
      " 6   total sulfur dioxide  1599 non-null   float64\n",
      " 7   density               1599 non-null   float64\n",
      " 8   pH                    1599 non-null   float64\n",
      " 9   sulphates             1599 non-null   float64\n",
      " 10  alcohol               1599 non-null   float64\n",
      " 11  quality               1599 non-null   int64  \n",
      "dtypes: float64(11), int64(1)\n",
      "memory usage: 150.0 KB\n"
     ]
    }
   ],
   "source": [
    "data_red.info()"
   ]
  },
  {
   "cell_type": "code",
   "execution_count": 212,
   "id": "hazardous-duration",
   "metadata": {},
   "outputs": [
    {
     "name": "stdout",
     "output_type": "stream",
     "text": [
      "<class 'pandas.core.frame.DataFrame'>\n",
      "RangeIndex: 4898 entries, 0 to 4897\n",
      "Data columns (total 12 columns):\n",
      " #   Column                Non-Null Count  Dtype  \n",
      "---  ------                --------------  -----  \n",
      " 0   fixed acidity         4898 non-null   float64\n",
      " 1   volatile acidity      4898 non-null   float64\n",
      " 2   citric acid           4898 non-null   float64\n",
      " 3   residual sugar        4898 non-null   float64\n",
      " 4   chlorides             4898 non-null   float64\n",
      " 5   free sulfur dioxide   4898 non-null   float64\n",
      " 6   total sulfur dioxide  4898 non-null   float64\n",
      " 7   density               4898 non-null   float64\n",
      " 8   pH                    4898 non-null   float64\n",
      " 9   sulphates             4898 non-null   float64\n",
      " 10  alcohol               4898 non-null   float64\n",
      " 11  quality               4898 non-null   int64  \n",
      "dtypes: float64(11), int64(1)\n",
      "memory usage: 459.3 KB\n"
     ]
    }
   ],
   "source": [
    "data_white.info()"
   ]
  },
  {
   "cell_type": "code",
   "execution_count": 213,
   "id": "existing-payment",
   "metadata": {},
   "outputs": [],
   "source": [
    "data_white[\"type\"] = [\"white\" for i in range(len(data_white))]"
   ]
  },
  {
   "cell_type": "code",
   "execution_count": 214,
   "id": "descending-bathroom",
   "metadata": {},
   "outputs": [],
   "source": [
    "data_red[\"type\"] = [\"red\" for i in range(len(data_red))]"
   ]
  },
  {
   "cell_type": "code",
   "execution_count": 215,
   "id": "acknowledged-humanity",
   "metadata": {},
   "outputs": [],
   "source": [
    "data = data_white.append(data_red)"
   ]
  },
  {
   "cell_type": "code",
   "execution_count": 794,
   "id": "empirical-hours",
   "metadata": {},
   "outputs": [],
   "source": [
    "data2=data_white.append(data_red)"
   ]
  },
  {
   "cell_type": "code",
   "execution_count": 216,
   "id": "annoying-shipping",
   "metadata": {
    "scrolled": true
   },
   "outputs": [
    {
     "name": "stdout",
     "output_type": "stream",
     "text": [
      "<class 'pandas.core.frame.DataFrame'>\n",
      "Int64Index: 6497 entries, 0 to 1598\n",
      "Data columns (total 13 columns):\n",
      " #   Column                Non-Null Count  Dtype  \n",
      "---  ------                --------------  -----  \n",
      " 0   fixed acidity         6497 non-null   float64\n",
      " 1   volatile acidity      6497 non-null   float64\n",
      " 2   citric acid           6497 non-null   float64\n",
      " 3   residual sugar        6497 non-null   float64\n",
      " 4   chlorides             6497 non-null   float64\n",
      " 5   free sulfur dioxide   6497 non-null   float64\n",
      " 6   total sulfur dioxide  6497 non-null   float64\n",
      " 7   density               6497 non-null   float64\n",
      " 8   pH                    6497 non-null   float64\n",
      " 9   sulphates             6497 non-null   float64\n",
      " 10  alcohol               6497 non-null   float64\n",
      " 11  quality               6497 non-null   int64  \n",
      " 12  type                  6497 non-null   object \n",
      "dtypes: float64(11), int64(1), object(1)\n",
      "memory usage: 710.6+ KB\n"
     ]
    }
   ],
   "source": [
    "data.info()"
   ]
  },
  {
   "cell_type": "code",
   "execution_count": 217,
   "id": "generous-numbers",
   "metadata": {},
   "outputs": [
    {
     "data": {
      "text/html": [
       "<div>\n",
       "<style scoped>\n",
       "    .dataframe tbody tr th:only-of-type {\n",
       "        vertical-align: middle;\n",
       "    }\n",
       "\n",
       "    .dataframe tbody tr th {\n",
       "        vertical-align: top;\n",
       "    }\n",
       "\n",
       "    .dataframe thead th {\n",
       "        text-align: right;\n",
       "    }\n",
       "</style>\n",
       "<table border=\"1\" class=\"dataframe\">\n",
       "  <thead>\n",
       "    <tr style=\"text-align: right;\">\n",
       "      <th></th>\n",
       "      <th>fixed acidity</th>\n",
       "      <th>volatile acidity</th>\n",
       "      <th>citric acid</th>\n",
       "      <th>residual sugar</th>\n",
       "      <th>chlorides</th>\n",
       "      <th>free sulfur dioxide</th>\n",
       "      <th>total sulfur dioxide</th>\n",
       "      <th>density</th>\n",
       "      <th>pH</th>\n",
       "      <th>sulphates</th>\n",
       "      <th>alcohol</th>\n",
       "      <th>quality</th>\n",
       "    </tr>\n",
       "  </thead>\n",
       "  <tbody>\n",
       "    <tr>\n",
       "      <th>count</th>\n",
       "      <td>6497.000000</td>\n",
       "      <td>6497.000000</td>\n",
       "      <td>6497.000000</td>\n",
       "      <td>6497.000000</td>\n",
       "      <td>6497.000000</td>\n",
       "      <td>6497.000000</td>\n",
       "      <td>6497.000000</td>\n",
       "      <td>6497.000000</td>\n",
       "      <td>6497.000000</td>\n",
       "      <td>6497.000000</td>\n",
       "      <td>6497.000000</td>\n",
       "      <td>6497.000000</td>\n",
       "    </tr>\n",
       "    <tr>\n",
       "      <th>mean</th>\n",
       "      <td>7.215307</td>\n",
       "      <td>0.339666</td>\n",
       "      <td>0.318633</td>\n",
       "      <td>5.443235</td>\n",
       "      <td>0.056034</td>\n",
       "      <td>30.525319</td>\n",
       "      <td>115.744574</td>\n",
       "      <td>0.994697</td>\n",
       "      <td>3.218501</td>\n",
       "      <td>0.531268</td>\n",
       "      <td>10.491801</td>\n",
       "      <td>5.818378</td>\n",
       "    </tr>\n",
       "    <tr>\n",
       "      <th>std</th>\n",
       "      <td>1.296434</td>\n",
       "      <td>0.164636</td>\n",
       "      <td>0.145318</td>\n",
       "      <td>4.757804</td>\n",
       "      <td>0.035034</td>\n",
       "      <td>17.749400</td>\n",
       "      <td>56.521855</td>\n",
       "      <td>0.002999</td>\n",
       "      <td>0.160787</td>\n",
       "      <td>0.148806</td>\n",
       "      <td>1.192712</td>\n",
       "      <td>0.873255</td>\n",
       "    </tr>\n",
       "    <tr>\n",
       "      <th>min</th>\n",
       "      <td>3.800000</td>\n",
       "      <td>0.080000</td>\n",
       "      <td>0.000000</td>\n",
       "      <td>0.600000</td>\n",
       "      <td>0.009000</td>\n",
       "      <td>1.000000</td>\n",
       "      <td>6.000000</td>\n",
       "      <td>0.987110</td>\n",
       "      <td>2.720000</td>\n",
       "      <td>0.220000</td>\n",
       "      <td>8.000000</td>\n",
       "      <td>3.000000</td>\n",
       "    </tr>\n",
       "    <tr>\n",
       "      <th>25%</th>\n",
       "      <td>6.400000</td>\n",
       "      <td>0.230000</td>\n",
       "      <td>0.250000</td>\n",
       "      <td>1.800000</td>\n",
       "      <td>0.038000</td>\n",
       "      <td>17.000000</td>\n",
       "      <td>77.000000</td>\n",
       "      <td>0.992340</td>\n",
       "      <td>3.110000</td>\n",
       "      <td>0.430000</td>\n",
       "      <td>9.500000</td>\n",
       "      <td>5.000000</td>\n",
       "    </tr>\n",
       "    <tr>\n",
       "      <th>50%</th>\n",
       "      <td>7.000000</td>\n",
       "      <td>0.290000</td>\n",
       "      <td>0.310000</td>\n",
       "      <td>3.000000</td>\n",
       "      <td>0.047000</td>\n",
       "      <td>29.000000</td>\n",
       "      <td>118.000000</td>\n",
       "      <td>0.994890</td>\n",
       "      <td>3.210000</td>\n",
       "      <td>0.510000</td>\n",
       "      <td>10.300000</td>\n",
       "      <td>6.000000</td>\n",
       "    </tr>\n",
       "    <tr>\n",
       "      <th>75%</th>\n",
       "      <td>7.700000</td>\n",
       "      <td>0.400000</td>\n",
       "      <td>0.390000</td>\n",
       "      <td>8.100000</td>\n",
       "      <td>0.065000</td>\n",
       "      <td>41.000000</td>\n",
       "      <td>156.000000</td>\n",
       "      <td>0.996990</td>\n",
       "      <td>3.320000</td>\n",
       "      <td>0.600000</td>\n",
       "      <td>11.300000</td>\n",
       "      <td>6.000000</td>\n",
       "    </tr>\n",
       "    <tr>\n",
       "      <th>max</th>\n",
       "      <td>15.900000</td>\n",
       "      <td>1.580000</td>\n",
       "      <td>1.660000</td>\n",
       "      <td>65.800000</td>\n",
       "      <td>0.611000</td>\n",
       "      <td>289.000000</td>\n",
       "      <td>440.000000</td>\n",
       "      <td>1.038980</td>\n",
       "      <td>4.010000</td>\n",
       "      <td>2.000000</td>\n",
       "      <td>14.900000</td>\n",
       "      <td>9.000000</td>\n",
       "    </tr>\n",
       "  </tbody>\n",
       "</table>\n",
       "</div>"
      ],
      "text/plain": [
       "       fixed acidity  volatile acidity  citric acid  residual sugar  \\\n",
       "count    6497.000000       6497.000000  6497.000000     6497.000000   \n",
       "mean        7.215307          0.339666     0.318633        5.443235   \n",
       "std         1.296434          0.164636     0.145318        4.757804   \n",
       "min         3.800000          0.080000     0.000000        0.600000   \n",
       "25%         6.400000          0.230000     0.250000        1.800000   \n",
       "50%         7.000000          0.290000     0.310000        3.000000   \n",
       "75%         7.700000          0.400000     0.390000        8.100000   \n",
       "max        15.900000          1.580000     1.660000       65.800000   \n",
       "\n",
       "         chlorides  free sulfur dioxide  total sulfur dioxide      density  \\\n",
       "count  6497.000000          6497.000000           6497.000000  6497.000000   \n",
       "mean      0.056034            30.525319            115.744574     0.994697   \n",
       "std       0.035034            17.749400             56.521855     0.002999   \n",
       "min       0.009000             1.000000              6.000000     0.987110   \n",
       "25%       0.038000            17.000000             77.000000     0.992340   \n",
       "50%       0.047000            29.000000            118.000000     0.994890   \n",
       "75%       0.065000            41.000000            156.000000     0.996990   \n",
       "max       0.611000           289.000000            440.000000     1.038980   \n",
       "\n",
       "                pH    sulphates      alcohol      quality  \n",
       "count  6497.000000  6497.000000  6497.000000  6497.000000  \n",
       "mean      3.218501     0.531268    10.491801     5.818378  \n",
       "std       0.160787     0.148806     1.192712     0.873255  \n",
       "min       2.720000     0.220000     8.000000     3.000000  \n",
       "25%       3.110000     0.430000     9.500000     5.000000  \n",
       "50%       3.210000     0.510000    10.300000     6.000000  \n",
       "75%       3.320000     0.600000    11.300000     6.000000  \n",
       "max       4.010000     2.000000    14.900000     9.000000  "
      ]
     },
     "execution_count": 217,
     "metadata": {},
     "output_type": "execute_result"
    }
   ],
   "source": [
    "data.describe()"
   ]
  },
  {
   "cell_type": "code",
   "execution_count": 218,
   "id": "upset-steal",
   "metadata": {},
   "outputs": [
    {
     "data": {
      "text/plain": [
       "alcohol                 0.444319\n",
       "citric acid             0.085532\n",
       "free sulfur dioxide     0.055463\n",
       "sulphates               0.038485\n",
       "pH                      0.019506\n",
       "residual sugar         -0.036980\n",
       "total sulfur dioxide   -0.041385\n",
       "fixed acidity          -0.076743\n",
       "chlorides              -0.200666\n",
       "volatile acidity       -0.265699\n",
       "density                -0.305858\n",
       "Name: quality, dtype: float64"
      ]
     },
     "execution_count": 218,
     "metadata": {},
     "output_type": "execute_result"
    }
   ],
   "source": [
    "data.corr()[\"quality\"].sort_values(ascending=False)[1:]"
   ]
  },
  {
   "cell_type": "code",
   "execution_count": 219,
   "id": "emerging-elizabeth",
   "metadata": {},
   "outputs": [
    {
     "data": {
      "text/plain": [
       "<AxesSubplot:>"
      ]
     },
     "execution_count": 219,
     "metadata": {},
     "output_type": "execute_result"
    },
    {
     "data": {
      "image/png": "[encoded data removed]",
      "text/plain": [
       "<Figure size 864x720 with 1 Axes>"
      ]
     },
     "metadata": {
      "needs_background": "light"
     },
     "output_type": "display_data"
    }
   ],
   "source": [
    "data[\"alcohol\"].hist(bins=30, figsize=(12,10))"
   ]
  },
  {
   "cell_type": "code",
   "execution_count": 220,
   "id": "based-harvest",
   "metadata": {},
   "outputs": [],
   "source": [
    "data[\"alcohol_cat\"]=pd.cut(data[\"alcohol\"], bins=[0,9.5,10.5,11.5,12.5,np.inf],\n",
    "                           labels=[1,2,3,4,5])"
   ]
  },
  {
   "cell_type": "code",
   "execution_count": 221,
   "id": "preliminary-sense",
   "metadata": {},
   "outputs": [
    {
     "data": {
      "text/plain": [
       "1    1872\n",
       "2    1846\n",
       "3    1488\n",
       "4     866\n",
       "5     425\n",
       "Name: alcohol_cat, dtype: int64"
      ]
     },
     "execution_count": 221,
     "metadata": {},
     "output_type": "execute_result"
    }
   ],
   "source": [
    "data[\"alcohol_cat\"].value_counts()"
   ]
  },
  {
   "cell_type": "code",
   "execution_count": 222,
   "id": "large-opposition",
   "metadata": {},
   "outputs": [
    {
     "data": {
      "text/html": [
       "<div>\n",
       "<style scoped>\n",
       "    .dataframe tbody tr th:only-of-type {\n",
       "        vertical-align: middle;\n",
       "    }\n",
       "\n",
       "    .dataframe tbody tr th {\n",
       "        vertical-align: top;\n",
       "    }\n",
       "\n",
       "    .dataframe thead th {\n",
       "        text-align: right;\n",
       "    }\n",
       "</style>\n",
       "<table border=\"1\" class=\"dataframe\">\n",
       "  <thead>\n",
       "    <tr style=\"text-align: right;\">\n",
       "      <th></th>\n",
       "      <th>fixed acidity</th>\n",
       "      <th>volatile acidity</th>\n",
       "      <th>citric acid</th>\n",
       "      <th>residual sugar</th>\n",
       "      <th>chlorides</th>\n",
       "      <th>free sulfur dioxide</th>\n",
       "      <th>total sulfur dioxide</th>\n",
       "      <th>density</th>\n",
       "      <th>pH</th>\n",
       "      <th>sulphates</th>\n",
       "      <th>alcohol</th>\n",
       "      <th>quality</th>\n",
       "      <th>type</th>\n",
       "      <th>alcohol_cat</th>\n",
       "    </tr>\n",
       "  </thead>\n",
       "  <tbody>\n",
       "    <tr>\n",
       "      <th>0</th>\n",
       "      <td>7.0</td>\n",
       "      <td>0.270</td>\n",
       "      <td>0.36</td>\n",
       "      <td>20.7</td>\n",
       "      <td>0.045</td>\n",
       "      <td>45.0</td>\n",
       "      <td>170.0</td>\n",
       "      <td>1.00100</td>\n",
       "      <td>3.00</td>\n",
       "      <td>0.45</td>\n",
       "      <td>8.8</td>\n",
       "      <td>6</td>\n",
       "      <td>white</td>\n",
       "      <td>1</td>\n",
       "    </tr>\n",
       "    <tr>\n",
       "      <th>1</th>\n",
       "      <td>6.3</td>\n",
       "      <td>0.300</td>\n",
       "      <td>0.34</td>\n",
       "      <td>1.6</td>\n",
       "      <td>0.049</td>\n",
       "      <td>14.0</td>\n",
       "      <td>132.0</td>\n",
       "      <td>0.99400</td>\n",
       "      <td>3.30</td>\n",
       "      <td>0.49</td>\n",
       "      <td>9.5</td>\n",
       "      <td>6</td>\n",
       "      <td>white</td>\n",
       "      <td>1</td>\n",
       "    </tr>\n",
       "    <tr>\n",
       "      <th>2</th>\n",
       "      <td>8.1</td>\n",
       "      <td>0.280</td>\n",
       "      <td>0.40</td>\n",
       "      <td>6.9</td>\n",
       "      <td>0.050</td>\n",
       "      <td>30.0</td>\n",
       "      <td>97.0</td>\n",
       "      <td>0.99510</td>\n",
       "      <td>3.26</td>\n",
       "      <td>0.44</td>\n",
       "      <td>10.1</td>\n",
       "      <td>6</td>\n",
       "      <td>white</td>\n",
       "      <td>2</td>\n",
       "    </tr>\n",
       "    <tr>\n",
       "      <th>3</th>\n",
       "      <td>7.2</td>\n",
       "      <td>0.230</td>\n",
       "      <td>0.32</td>\n",
       "      <td>8.5</td>\n",
       "      <td>0.058</td>\n",
       "      <td>47.0</td>\n",
       "      <td>186.0</td>\n",
       "      <td>0.99560</td>\n",
       "      <td>3.19</td>\n",
       "      <td>0.40</td>\n",
       "      <td>9.9</td>\n",
       "      <td>6</td>\n",
       "      <td>white</td>\n",
       "      <td>2</td>\n",
       "    </tr>\n",
       "    <tr>\n",
       "      <th>4</th>\n",
       "      <td>7.2</td>\n",
       "      <td>0.230</td>\n",
       "      <td>0.32</td>\n",
       "      <td>8.5</td>\n",
       "      <td>0.058</td>\n",
       "      <td>47.0</td>\n",
       "      <td>186.0</td>\n",
       "      <td>0.99560</td>\n",
       "      <td>3.19</td>\n",
       "      <td>0.40</td>\n",
       "      <td>9.9</td>\n",
       "      <td>6</td>\n",
       "      <td>white</td>\n",
       "      <td>2</td>\n",
       "    </tr>\n",
       "    <tr>\n",
       "      <th>...</th>\n",
       "      <td>...</td>\n",
       "      <td>...</td>\n",
       "      <td>...</td>\n",
       "      <td>...</td>\n",
       "      <td>...</td>\n",
       "      <td>...</td>\n",
       "      <td>...</td>\n",
       "      <td>...</td>\n",
       "      <td>...</td>\n",
       "      <td>...</td>\n",
       "      <td>...</td>\n",
       "      <td>...</td>\n",
       "      <td>...</td>\n",
       "      <td>...</td>\n",
       "    </tr>\n",
       "    <tr>\n",
       "      <th>1594</th>\n",
       "      <td>6.2</td>\n",
       "      <td>0.600</td>\n",
       "      <td>0.08</td>\n",
       "      <td>2.0</td>\n",
       "      <td>0.090</td>\n",
       "      <td>32.0</td>\n",
       "      <td>44.0</td>\n",
       "      <td>0.99490</td>\n",
       "      <td>3.45</td>\n",
       "      <td>0.58</td>\n",
       "      <td>10.5</td>\n",
       "      <td>5</td>\n",
       "      <td>red</td>\n",
       "      <td>2</td>\n",
       "    </tr>\n",
       "    <tr>\n",
       "      <th>1595</th>\n",
       "      <td>5.9</td>\n",
       "      <td>0.550</td>\n",
       "      <td>0.10</td>\n",
       "      <td>2.2</td>\n",
       "      <td>0.062</td>\n",
       "      <td>39.0</td>\n",
       "      <td>51.0</td>\n",
       "      <td>0.99512</td>\n",
       "      <td>3.52</td>\n",
       "      <td>0.76</td>\n",
       "      <td>11.2</td>\n",
       "      <td>6</td>\n",
       "      <td>red</td>\n",
       "      <td>3</td>\n",
       "    </tr>\n",
       "    <tr>\n",
       "      <th>1596</th>\n",
       "      <td>6.3</td>\n",
       "      <td>0.510</td>\n",
       "      <td>0.13</td>\n",
       "      <td>2.3</td>\n",
       "      <td>0.076</td>\n",
       "      <td>29.0</td>\n",
       "      <td>40.0</td>\n",
       "      <td>0.99574</td>\n",
       "      <td>3.42</td>\n",
       "      <td>0.75</td>\n",
       "      <td>11.0</td>\n",
       "      <td>6</td>\n",
       "      <td>red</td>\n",
       "      <td>3</td>\n",
       "    </tr>\n",
       "    <tr>\n",
       "      <th>1597</th>\n",
       "      <td>5.9</td>\n",
       "      <td>0.645</td>\n",
       "      <td>0.12</td>\n",
       "      <td>2.0</td>\n",
       "      <td>0.075</td>\n",
       "      <td>32.0</td>\n",
       "      <td>44.0</td>\n",
       "      <td>0.99547</td>\n",
       "      <td>3.57</td>\n",
       "      <td>0.71</td>\n",
       "      <td>10.2</td>\n",
       "      <td>5</td>\n",
       "      <td>red</td>\n",
       "      <td>2</td>\n",
       "    </tr>\n",
       "    <tr>\n",
       "      <th>1598</th>\n",
       "      <td>6.0</td>\n",
       "      <td>0.310</td>\n",
       "      <td>0.47</td>\n",
       "      <td>3.6</td>\n",
       "      <td>0.067</td>\n",
       "      <td>18.0</td>\n",
       "      <td>42.0</td>\n",
       "      <td>0.99549</td>\n",
       "      <td>3.39</td>\n",
       "      <td>0.66</td>\n",
       "      <td>11.0</td>\n",
       "      <td>6</td>\n",
       "      <td>red</td>\n",
       "      <td>3</td>\n",
       "    </tr>\n",
       "  </tbody>\n",
       "</table>\n",
       "<p>6497 rows × 14 columns</p>\n",
       "</div>"
      ],
      "text/plain": [
       "      fixed acidity  volatile acidity  citric acid  residual sugar  chlorides  \\\n",
       "0               7.0             0.270         0.36            20.7      0.045   \n",
       "1               6.3             0.300         0.34             1.6      0.049   \n",
       "2               8.1             0.280         0.40             6.9      0.050   \n",
       "3               7.2             0.230         0.32             8.5      0.058   \n",
       "4               7.2             0.230         0.32             8.5      0.058   \n",
       "...             ...               ...          ...             ...        ...   \n",
       "1594            6.2             0.600         0.08             2.0      0.090   \n",
       "1595            5.9             0.550         0.10             2.2      0.062   \n",
       "1596            6.3             0.510         0.13             2.3      0.076   \n",
       "1597            5.9             0.645         0.12             2.0      0.075   \n",
       "1598            6.0             0.310         0.47             3.6      0.067   \n",
       "\n",
       "      free sulfur dioxide  total sulfur dioxide  density    pH  sulphates  \\\n",
       "0                    45.0                 170.0  1.00100  3.00       0.45   \n",
       "1                    14.0                 132.0  0.99400  3.30       0.49   \n",
       "2                    30.0                  97.0  0.99510  3.26       0.44   \n",
       "3                    47.0                 186.0  0.99560  3.19       0.40   \n",
       "4                    47.0                 186.0  0.99560  3.19       0.40   \n",
       "...                   ...                   ...      ...   ...        ...   \n",
       "1594                 32.0                  44.0  0.99490  3.45       0.58   \n",
       "1595                 39.0                  51.0  0.99512  3.52       0.76   \n",
       "1596                 29.0                  40.0  0.99574  3.42       0.75   \n",
       "1597                 32.0                  44.0  0.99547  3.57       0.71   \n",
       "1598                 18.0                  42.0  0.99549  3.39       0.66   \n",
       "\n",
       "      alcohol  quality   type alcohol_cat  \n",
       "0         8.8        6  white           1  \n",
       "1         9.5        6  white           1  \n",
       "2        10.1        6  white           2  \n",
       "3         9.9        6  white           2  \n",
       "4         9.9        6  white           2  \n",
       "...       ...      ...    ...         ...  \n",
       "1594     10.5        5    red           2  \n",
       "1595     11.2        6    red           3  \n",
       "1596     11.0        6    red           3  \n",
       "1597     10.2        5    red           2  \n",
       "1598     11.0        6    red           3  \n",
       "\n",
       "[6497 rows x 14 columns]"
      ]
     },
     "execution_count": 222,
     "metadata": {},
     "output_type": "execute_result"
    }
   ],
   "source": [
    "data"
   ]
  },
  {
   "cell_type": "code",
   "execution_count": 223,
   "id": "active-gross",
   "metadata": {},
   "outputs": [],
   "source": [
    "from sklearn.model_selection import train_test_split\n",
    "\n",
    "train, test = train_test_split(data, test_size=0.2, stratify=data[\"alcohol_cat\"])"
   ]
  },
  {
   "cell_type": "code",
   "execution_count": 224,
   "id": "pursuant-temperature",
   "metadata": {},
   "outputs": [],
   "source": [
    "train = train.copy()\n",
    "test = test.copy()"
   ]
  },
  {
   "cell_type": "code",
   "execution_count": 225,
   "id": "consecutive-america",
   "metadata": {},
   "outputs": [
    {
     "data": {
      "text/html": [
       "<div>\n",
       "<style scoped>\n",
       "    .dataframe tbody tr th:only-of-type {\n",
       "        vertical-align: middle;\n",
       "    }\n",
       "\n",
       "    .dataframe tbody tr th {\n",
       "        vertical-align: top;\n",
       "    }\n",
       "\n",
       "    .dataframe thead th {\n",
       "        text-align: right;\n",
       "    }\n",
       "</style>\n",
       "<table border=\"1\" class=\"dataframe\">\n",
       "  <thead>\n",
       "    <tr style=\"text-align: right;\">\n",
       "      <th></th>\n",
       "      <th>train</th>\n",
       "      <th>test</th>\n",
       "    </tr>\n",
       "  </thead>\n",
       "  <tbody>\n",
       "    <tr>\n",
       "      <th>0</th>\n",
       "      <td>-0.000082</td>\n",
       "      <td>0.000329</td>\n",
       "    </tr>\n",
       "    <tr>\n",
       "      <th>1</th>\n",
       "      <td>0.000071</td>\n",
       "      <td>-0.000285</td>\n",
       "    </tr>\n",
       "    <tr>\n",
       "      <th>2</th>\n",
       "      <td>-0.000051</td>\n",
       "      <td>0.000202</td>\n",
       "    </tr>\n",
       "    <tr>\n",
       "      <th>3</th>\n",
       "      <td>0.000054</td>\n",
       "      <td>-0.000215</td>\n",
       "    </tr>\n",
       "    <tr>\n",
       "      <th>4</th>\n",
       "      <td>0.000008</td>\n",
       "      <td>-0.000030</td>\n",
       "    </tr>\n",
       "  </tbody>\n",
       "</table>\n",
       "</div>"
      ],
      "text/plain": [
       "      train      test\n",
       "0 -0.000082  0.000329\n",
       "1  0.000071 -0.000285\n",
       "2 -0.000051  0.000202\n",
       "3  0.000054 -0.000215\n",
       "4  0.000008 -0.000030"
      ]
     },
     "execution_count": 225,
     "metadata": {},
     "output_type": "execute_result"
    }
   ],
   "source": [
    "pd.DataFrame(np.c_[train[\"alcohol_cat\"].value_counts()/len(train)-data[\"alcohol_cat\"].value_counts()/len(data),\n",
    "                   test[\"alcohol_cat\"].value_counts()/len(test)-data[\"alcohol_cat\"].value_counts()/len(data)], \n",
    "             columns = [\"train\",\"test\"])"
   ]
  },
  {
   "cell_type": "code",
   "execution_count": 226,
   "id": "realistic-dispute",
   "metadata": {},
   "outputs": [
    {
     "data": {
      "text/plain": [
       "alcohol                 0.443027\n",
       "citric acid             0.085875\n",
       "free sulfur dioxide     0.052779\n",
       "sulphates               0.029539\n",
       "pH                      0.011487\n",
       "residual sugar         -0.034751\n",
       "total sulfur dioxide   -0.041403\n",
       "fixed acidity          -0.077852\n",
       "chlorides              -0.202010\n",
       "volatile acidity       -0.267825\n",
       "density                -0.305543\n",
       "Name: quality, dtype: float64"
      ]
     },
     "execution_count": 226,
     "metadata": {},
     "output_type": "execute_result"
    }
   ],
   "source": [
    "train.corr()[\"quality\"].sort_values(ascending=False)[1:]"
   ]
  },
  {
   "cell_type": "code",
   "execution_count": 227,
   "id": "sunrise-equipment",
   "metadata": {},
   "outputs": [],
   "source": [
    "train.drop(\"alcohol_cat\", axis=1, inplace=True)"
   ]
  },
  {
   "cell_type": "code",
   "execution_count": 228,
   "id": "affecting-hampshire",
   "metadata": {},
   "outputs": [],
   "source": [
    "data = train.copy()"
   ]
  },
  {
   "cell_type": "code",
   "execution_count": 229,
   "id": "voluntary-welcome",
   "metadata": {},
   "outputs": [],
   "source": [
    "data[\"free to total sulfur dioxide\"] = data[\"free sulfur dioxide\"]/data[\"total sulfur dioxide\"]"
   ]
  },
  {
   "cell_type": "code",
   "execution_count": 230,
   "id": "preliminary-calculation",
   "metadata": {},
   "outputs": [
    {
     "data": {
      "text/plain": [
       "alcohol                         0.443027\n",
       "free to total sulfur dioxide    0.113115\n",
       "citric acid                     0.085875\n",
       "free sulfur dioxide             0.052779\n",
       "sulphates                       0.029539\n",
       "pH                              0.011487\n",
       "residual sugar                 -0.034751\n",
       "total sulfur dioxide           -0.041403\n",
       "fixed acidity                  -0.077852\n",
       "chlorides                      -0.202010\n",
       "volatile acidity               -0.267825\n",
       "density                        -0.305543\n",
       "Name: quality, dtype: float64"
      ]
     },
     "execution_count": 230,
     "metadata": {},
     "output_type": "execute_result"
    }
   ],
   "source": [
    "data.corr()[\"quality\"].sort_values(ascending=False)[1:]"
   ]
  },
  {
   "cell_type": "code",
   "execution_count": 231,
   "id": "lasting-piano",
   "metadata": {},
   "outputs": [],
   "source": [
    "data.drop([\"free sulfur dioxide\",\"total sulfur dioxide\"], axis=1, inplace=True)"
   ]
  },
  {
   "cell_type": "code",
   "execution_count": 232,
   "id": "baking-gates",
   "metadata": {},
   "outputs": [],
   "source": [
    "data_labels = data[\"quality\"]\n",
    "data.drop(\"quality\", axis=1, inplace=True)"
   ]
  },
  {
   "cell_type": "code",
   "execution_count": 233,
   "id": "divided-mileage",
   "metadata": {},
   "outputs": [],
   "source": [
    "data_cat = data[\"type\"]\n",
    "data_num = data.drop(\"type\", axis=1)"
   ]
  },
  {
   "cell_type": "code",
   "execution_count": 234,
   "id": "flush-simulation",
   "metadata": {},
   "outputs": [
    {
     "data": {
      "text/html": [
       "<div>\n",
       "<style scoped>\n",
       "    .dataframe tbody tr th:only-of-type {\n",
       "        vertical-align: middle;\n",
       "    }\n",
       "\n",
       "    .dataframe tbody tr th {\n",
       "        vertical-align: top;\n",
       "    }\n",
       "\n",
       "    .dataframe thead th {\n",
       "        text-align: right;\n",
       "    }\n",
       "</style>\n",
       "<table border=\"1\" class=\"dataframe\">\n",
       "  <thead>\n",
       "    <tr style=\"text-align: right;\">\n",
       "      <th></th>\n",
       "      <th>fixed acidity</th>\n",
       "      <th>volatile acidity</th>\n",
       "      <th>citric acid</th>\n",
       "      <th>residual sugar</th>\n",
       "      <th>chlorides</th>\n",
       "      <th>density</th>\n",
       "      <th>pH</th>\n",
       "      <th>sulphates</th>\n",
       "      <th>alcohol</th>\n",
       "      <th>free to total sulfur dioxide</th>\n",
       "    </tr>\n",
       "  </thead>\n",
       "  <tbody>\n",
       "    <tr>\n",
       "      <th>4054</th>\n",
       "      <td>7.2</td>\n",
       "      <td>0.17</td>\n",
       "      <td>0.28</td>\n",
       "      <td>17.55</td>\n",
       "      <td>0.050</td>\n",
       "      <td>0.99971</td>\n",
       "      <td>2.94</td>\n",
       "      <td>0.43</td>\n",
       "      <td>9.0</td>\n",
       "      <td>0.214286</td>\n",
       "    </tr>\n",
       "    <tr>\n",
       "      <th>1886</th>\n",
       "      <td>7.0</td>\n",
       "      <td>0.53</td>\n",
       "      <td>0.02</td>\n",
       "      <td>1.00</td>\n",
       "      <td>0.036</td>\n",
       "      <td>0.99300</td>\n",
       "      <td>3.20</td>\n",
       "      <td>0.32</td>\n",
       "      <td>9.0</td>\n",
       "      <td>0.364486</td>\n",
       "    </tr>\n",
       "    <tr>\n",
       "      <th>4432</th>\n",
       "      <td>6.7</td>\n",
       "      <td>0.24</td>\n",
       "      <td>0.26</td>\n",
       "      <td>5.40</td>\n",
       "      <td>0.030</td>\n",
       "      <td>0.99045</td>\n",
       "      <td>3.15</td>\n",
       "      <td>0.38</td>\n",
       "      <td>12.7</td>\n",
       "      <td>0.159574</td>\n",
       "    </tr>\n",
       "    <tr>\n",
       "      <th>4193</th>\n",
       "      <td>8.1</td>\n",
       "      <td>0.27</td>\n",
       "      <td>0.33</td>\n",
       "      <td>1.30</td>\n",
       "      <td>0.045</td>\n",
       "      <td>0.99066</td>\n",
       "      <td>2.98</td>\n",
       "      <td>0.44</td>\n",
       "      <td>12.4</td>\n",
       "      <td>0.260000</td>\n",
       "    </tr>\n",
       "    <tr>\n",
       "      <th>3935</th>\n",
       "      <td>7.0</td>\n",
       "      <td>0.46</td>\n",
       "      <td>0.20</td>\n",
       "      <td>16.70</td>\n",
       "      <td>0.046</td>\n",
       "      <td>0.99898</td>\n",
       "      <td>3.08</td>\n",
       "      <td>0.56</td>\n",
       "      <td>9.4</td>\n",
       "      <td>0.271739</td>\n",
       "    </tr>\n",
       "    <tr>\n",
       "      <th>...</th>\n",
       "      <td>...</td>\n",
       "      <td>...</td>\n",
       "      <td>...</td>\n",
       "      <td>...</td>\n",
       "      <td>...</td>\n",
       "      <td>...</td>\n",
       "      <td>...</td>\n",
       "      <td>...</td>\n",
       "      <td>...</td>\n",
       "      <td>...</td>\n",
       "    </tr>\n",
       "    <tr>\n",
       "      <th>3790</th>\n",
       "      <td>6.4</td>\n",
       "      <td>0.27</td>\n",
       "      <td>0.45</td>\n",
       "      <td>8.30</td>\n",
       "      <td>0.050</td>\n",
       "      <td>0.99550</td>\n",
       "      <td>3.18</td>\n",
       "      <td>0.48</td>\n",
       "      <td>9.5</td>\n",
       "      <td>0.265306</td>\n",
       "    </tr>\n",
       "    <tr>\n",
       "      <th>316</th>\n",
       "      <td>9.6</td>\n",
       "      <td>0.56</td>\n",
       "      <td>0.23</td>\n",
       "      <td>3.40</td>\n",
       "      <td>0.102</td>\n",
       "      <td>0.99960</td>\n",
       "      <td>3.30</td>\n",
       "      <td>0.65</td>\n",
       "      <td>10.1</td>\n",
       "      <td>0.402174</td>\n",
       "    </tr>\n",
       "    <tr>\n",
       "      <th>1053</th>\n",
       "      <td>8.3</td>\n",
       "      <td>0.33</td>\n",
       "      <td>0.42</td>\n",
       "      <td>2.30</td>\n",
       "      <td>0.070</td>\n",
       "      <td>0.99426</td>\n",
       "      <td>3.38</td>\n",
       "      <td>0.77</td>\n",
       "      <td>12.7</td>\n",
       "      <td>0.450000</td>\n",
       "    </tr>\n",
       "    <tr>\n",
       "      <th>875</th>\n",
       "      <td>8.8</td>\n",
       "      <td>0.31</td>\n",
       "      <td>0.40</td>\n",
       "      <td>2.80</td>\n",
       "      <td>0.109</td>\n",
       "      <td>0.99614</td>\n",
       "      <td>3.31</td>\n",
       "      <td>0.79</td>\n",
       "      <td>11.8</td>\n",
       "      <td>0.437500</td>\n",
       "    </tr>\n",
       "    <tr>\n",
       "      <th>4767</th>\n",
       "      <td>6.6</td>\n",
       "      <td>0.19</td>\n",
       "      <td>0.25</td>\n",
       "      <td>1.20</td>\n",
       "      <td>0.052</td>\n",
       "      <td>0.99352</td>\n",
       "      <td>3.30</td>\n",
       "      <td>0.42</td>\n",
       "      <td>9.4</td>\n",
       "      <td>0.187845</td>\n",
       "    </tr>\n",
       "  </tbody>\n",
       "</table>\n",
       "<p>5197 rows × 10 columns</p>\n",
       "</div>"
      ],
      "text/plain": [
       "      fixed acidity  volatile acidity  citric acid  residual sugar  chlorides  \\\n",
       "4054            7.2              0.17         0.28           17.55      0.050   \n",
       "1886            7.0              0.53         0.02            1.00      0.036   \n",
       "4432            6.7              0.24         0.26            5.40      0.030   \n",
       "4193            8.1              0.27         0.33            1.30      0.045   \n",
       "3935            7.0              0.46         0.20           16.70      0.046   \n",
       "...             ...               ...          ...             ...        ...   \n",
       "3790            6.4              0.27         0.45            8.30      0.050   \n",
       "316             9.6              0.56         0.23            3.40      0.102   \n",
       "1053            8.3              0.33         0.42            2.30      0.070   \n",
       "875             8.8              0.31         0.40            2.80      0.109   \n",
       "4767            6.6              0.19         0.25            1.20      0.052   \n",
       "\n",
       "      density    pH  sulphates  alcohol  free to total sulfur dioxide  \n",
       "4054  0.99971  2.94       0.43      9.0                      0.214286  \n",
       "1886  0.99300  3.20       0.32      9.0                      0.364486  \n",
       "4432  0.99045  3.15       0.38     12.7                      0.159574  \n",
       "4193  0.99066  2.98       0.44     12.4                      0.260000  \n",
       "3935  0.99898  3.08       0.56      9.4                      0.271739  \n",
       "...       ...   ...        ...      ...                           ...  \n",
       "3790  0.99550  3.18       0.48      9.5                      0.265306  \n",
       "316   0.99960  3.30       0.65     10.1                      0.402174  \n",
       "1053  0.99426  3.38       0.77     12.7                      0.450000  \n",
       "875   0.99614  3.31       0.79     11.8                      0.437500  \n",
       "4767  0.99352  3.30       0.42      9.4                      0.187845  \n",
       "\n",
       "[5197 rows x 10 columns]"
      ]
     },
     "execution_count": 234,
     "metadata": {},
     "output_type": "execute_result"
    }
   ],
   "source": [
    "data_num"
   ]
  },
  {
   "cell_type": "code",
   "execution_count": 237,
   "id": "governmental-sheet",
   "metadata": {},
   "outputs": [
    {
     "data": {
      "text/plain": [
       "4054    white\n",
       "1886    white\n",
       "4432    white\n",
       "4193    white\n",
       "3935    white\n",
       "        ...  \n",
       "3790    white\n",
       "316       red\n",
       "1053      red\n",
       "875       red\n",
       "4767    white\n",
       "Name: type, Length: 5197, dtype: object"
      ]
     },
     "execution_count": 237,
     "metadata": {},
     "output_type": "execute_result"
    }
   ],
   "source": [
    "data_cat"
   ]
  },
  {
   "cell_type": "code",
   "execution_count": 595,
   "id": "broad-nursery",
   "metadata": {},
   "outputs": [],
   "source": [
    "from sklearn.base import TransformerMixin, BaseEstimator\n",
    "\n",
    "class BinaryEncoder(TransformerMixin, BaseEstimator):\n",
    "    def __init__(self, val):\n",
    "        self.val = val\n",
    "    def fit(self, X, y=None):\n",
    "        return self\n",
    "    def transform(self,X,y=None):\n",
    "        return np.array([1 if i==self.val else 0 for i in X.values]).reshape(len(X),1)"
   ]
  },
  {
   "cell_type": "code",
   "execution_count": 596,
   "id": "detailed-cruise",
   "metadata": {},
   "outputs": [],
   "source": [
    "bin_enc = BinaryEncoder(val=\"white\")"
   ]
  },
  {
   "cell_type": "code",
   "execution_count": 597,
   "id": "heard-marks",
   "metadata": {},
   "outputs": [
    {
     "data": {
      "text/plain": [
       "array([[1],\n",
       "       [1],\n",
       "       [1],\n",
       "       ...,\n",
       "       [0],\n",
       "       [0],\n",
       "       [1]])"
      ]
     },
     "execution_count": 597,
     "metadata": {},
     "output_type": "execute_result"
    }
   ],
   "source": [
    "data_cat_trans = bin_enc.fit_transform(data_cat)\n",
    "data_cat_trans"
   ]
  },
  {
   "cell_type": "code",
   "execution_count": 598,
   "id": "little-watch",
   "metadata": {},
   "outputs": [],
   "source": [
    "data_cat_trans = data_cat_trans.reshape(5197,)"
   ]
  },
  {
   "cell_type": "code",
   "execution_count": null,
   "id": "collectible-central",
   "metadata": {},
   "outputs": [],
   "source": []
  },
  {
   "cell_type": "code",
   "execution_count": 599,
   "id": "monetary-literature",
   "metadata": {},
   "outputs": [
    {
     "data": {
      "text/plain": [
       "array([1, 1, 1, ..., 0, 0, 1])"
      ]
     },
     "execution_count": 599,
     "metadata": {},
     "output_type": "execute_result"
    }
   ],
   "source": [
    "data_cat_trans"
   ]
  },
  {
   "cell_type": "code",
   "execution_count": 600,
   "id": "needed-relief",
   "metadata": {
    "scrolled": true
   },
   "outputs": [
    {
     "data": {
      "text/plain": [
       "{'fixed acidity': 0,\n",
       " 'volatile acidity': 1,\n",
       " 'citric acid': 2,\n",
       " 'residual sugar': 3,\n",
       " 'chlorides': 4,\n",
       " 'free sulfur dioxide': 5,\n",
       " 'total sulfur dioxide': 6,\n",
       " 'density': 7,\n",
       " 'pH': 8,\n",
       " 'sulphates': 9,\n",
       " 'alcohol': 10,\n",
       " 'type': 11}"
      ]
     },
     "execution_count": 600,
     "metadata": {},
     "output_type": "execute_result"
    }
   ],
   "source": [
    "columns = list(train.drop(\"quality\",axis=1).columns)\n",
    "columns = {columns[i]:i for i in range(len(columns))}\n",
    "columns"
   ]
  },
  {
   "cell_type": "code",
   "execution_count": 754,
   "id": "atlantic-address",
   "metadata": {},
   "outputs": [],
   "source": [
    "\n",
    "\n",
    "class Thingy(TransformerMixin, BaseEstimator):\n",
    "    def __init__(self, add_ratio_of_sulfur_dioxide=True, remove_free_sulfur_dioxide=True, remove_total_sulfur_dioxide=True):\n",
    "        self.add_ratio_of_sulfur_dioxide = add_ratio_of_sulfur_dioxide\n",
    "        self.remove_free_sulfur_dioxide = remove_free_sulfur_dioxide\n",
    "        self.remove_total_sulfur_dioxide = remove_total_sulfur_dioxide\n",
    "    \n",
    "    def fit(self, X, y=None):\n",
    "        return self\n",
    "    \n",
    "    def transform(self, X, y=None):\n",
    "        final = X\n",
    "        if (self.add_ratio_of_sulfur_dioxide):\n",
    "            final = np.c_[X,(X[:,5]/X[:,6])]\n",
    "        if (self.remove_total_sulfur_dioxide):\n",
    "            final = np.c_[final[:,:6],final[:,7:]]\n",
    "        if (self.remove_free_sulfur_dioxide):\n",
    "            final = np.c_[final[:,:5],final[:,6:]]\n",
    "\n",
    "\n",
    "        return final"
   ]
  },
  {
   "cell_type": "code",
   "execution_count": 755,
   "id": "casual-vacation",
   "metadata": {},
   "outputs": [],
   "source": [
    "attr_adder = Thingy()"
   ]
  },
  {
   "cell_type": "code",
   "execution_count": 756,
   "id": "extraordinary-bearing",
   "metadata": {},
   "outputs": [
    {
     "data": {
      "text/plain": [
       "array([ 7.2       ,  0.17      ,  0.28      , 17.55      ,  0.05      ,\n",
       "        0.99971   ,  2.94      ,  0.43      ,  9.        ,  0.21428571])"
      ]
     },
     "execution_count": 756,
     "metadata": {},
     "output_type": "execute_result"
    }
   ],
   "source": [
    "attr_adder.fit_transform(train.drop([\"quality\",\"type\"], axis=1).values)[0]"
   ]
  },
  {
   "cell_type": "code",
   "execution_count": 757,
   "id": "acting-daniel",
   "metadata": {},
   "outputs": [],
   "source": [
    "data_num = attr_adder.fit_transform(train.drop([\"quality\",\"type\"], axis=1).values)"
   ]
  },
  {
   "cell_type": "code",
   "execution_count": 758,
   "id": "proud-charlotte",
   "metadata": {},
   "outputs": [
    {
     "data": {
      "text/plain": [
       "4054    white\n",
       "1886    white\n",
       "4432    white\n",
       "4193    white\n",
       "3935    white\n",
       "        ...  \n",
       "3790    white\n",
       "316       red\n",
       "1053      red\n",
       "875       red\n",
       "4767    white\n",
       "Name: type, Length: 5197, dtype: object"
      ]
     },
     "execution_count": 758,
     "metadata": {},
     "output_type": "execute_result"
    }
   ],
   "source": [
    "data_cat"
   ]
  },
  {
   "cell_type": "code",
   "execution_count": 759,
   "id": "neutral-central",
   "metadata": {},
   "outputs": [
    {
     "data": {
      "text/plain": [
       "['fixed acidity',\n",
       " 'volatile acidity',\n",
       " 'citric acid',\n",
       " 'residual sugar',\n",
       " 'chlorides',\n",
       " 'free sulfur dioxide',\n",
       " 'total sulfur dioxide',\n",
       " 'density',\n",
       " 'pH',\n",
       " 'sulphates',\n",
       " 'alcohol']"
      ]
     },
     "execution_count": 759,
     "metadata": {},
     "output_type": "execute_result"
    }
   ],
   "source": [
    "from sklearn.pipeline import Pipeline\n",
    "from sklearn.preprocessing import StandardScaler\n",
    "from sklearn.impute import SimpleImputer\n",
    "\n",
    "num_pipeline = Pipeline([\n",
    "    (\"imputer\",SimpleImputer()),\n",
    "    (\"attrs_adder_remover\",Thingy()),\n",
    "    (\"std_scaler\",StandardScaler()),\n",
    "])\n",
    "\n",
    "num_attrs = list(columns.keys())[:-1]\n",
    "num_attrs"
   ]
  },
  {
   "cell_type": "code",
   "execution_count": 760,
   "id": "constitutional-studio",
   "metadata": {},
   "outputs": [],
   "source": [
    "from sklearn.compose import ColumnTransformer\n",
    "\n",
    "pipeline = ColumnTransformer([\n",
    "    (\"num\", num_pipeline, num_attrs),\n",
    "    (\"cat\", BinaryEncoder(val=\"white\"), [\"type\"]),\n",
    "])"
   ]
  },
  {
   "cell_type": "code",
   "execution_count": 761,
   "id": "valid-gabriel",
   "metadata": {},
   "outputs": [],
   "source": [
    "X_train = train.drop(\"quality\", axis=1).copy()"
   ]
  },
  {
   "cell_type": "code",
   "execution_count": 762,
   "id": "stock-insight",
   "metadata": {},
   "outputs": [],
   "source": [
    "X_train_prep = pipeline.fit_transform(X_train)"
   ]
  },
  {
   "cell_type": "code",
   "execution_count": 763,
   "id": "acknowledged-windows",
   "metadata": {},
   "outputs": [
    {
     "data": {
      "text/plain": [
       "array([-0.01406514, -1.03406335, -0.26560322,  2.53718543, -0.16617174,\n",
       "        1.66148347, -1.7524487 , -0.67191143, -1.2514019 , -0.58365875,\n",
       "        1.        ])"
      ]
     },
     "execution_count": 763,
     "metadata": {},
     "output_type": "execute_result"
    }
   ],
   "source": [
    "X_train_prep[0]"
   ]
  },
  {
   "cell_type": "code",
   "execution_count": 764,
   "id": "careful-duncan",
   "metadata": {},
   "outputs": [
    {
     "data": {
      "text/plain": [
       "array([-0.01406514, -1.03406335, -0.26560322,  2.53718543, -0.16617174,\n",
       "        1.66148347, -1.7524487 , -0.67191143, -1.2514019 , -0.58365875])"
      ]
     },
     "execution_count": 764,
     "metadata": {},
     "output_type": "execute_result"
    }
   ],
   "source": [
    "num_pipeline.fit_transform(X_train.drop(\"type\",axis=1))[0]\n"
   ]
  },
  {
   "cell_type": "code",
   "execution_count": 765,
   "id": "earlier-receipt",
   "metadata": {},
   "outputs": [
    {
     "data": {
      "text/plain": [
       "4054    7\n",
       "1886    5\n",
       "4432    6\n",
       "4193    6\n",
       "3935    5\n",
       "       ..\n",
       "3790    5\n",
       "316     5\n",
       "1053    7\n",
       "875     7\n",
       "4767    7\n",
       "Name: quality, Length: 5197, dtype: int64"
      ]
     },
     "execution_count": 765,
     "metadata": {},
     "output_type": "execute_result"
    }
   ],
   "source": [
    "### Models\n",
    "train_labels = train[\"quality\"]\n",
    "train_labels"
   ]
  },
  {
   "cell_type": "code",
   "execution_count": 766,
   "id": "graduate-cherry",
   "metadata": {},
   "outputs": [],
   "source": [
    "from sklearn.linear_model import LinearRegression\n",
    "\n",
    "lin_reg = LinearRegression()"
   ]
  },
  {
   "cell_type": "code",
   "execution_count": 767,
   "id": "completed-movie",
   "metadata": {},
   "outputs": [],
   "source": [
    "from sklearn.model_selection import cross_val_score\n",
    "\n",
    "lin_scores = -cross_val_score(lin_reg, X_train_prep, train_labels, scoring=\"neg_root_mean_squared_error\", cv=3)"
   ]
  },
  {
   "cell_type": "code",
   "execution_count": 768,
   "id": "conventional-lafayette",
   "metadata": {},
   "outputs": [
    {
     "data": {
      "text/plain": [
       "array([0.70104749, 0.73235409, 0.75579508])"
      ]
     },
     "execution_count": 768,
     "metadata": {},
     "output_type": "execute_result"
    }
   ],
   "source": [
    "lin_scores"
   ]
  },
  {
   "cell_type": "code",
   "execution_count": 769,
   "id": "northern-spanish",
   "metadata": {},
   "outputs": [],
   "source": [
    "from sklearn.tree import DecisionTreeRegressor\n",
    "\n",
    "dec_reg = DecisionTreeRegressor()\n",
    "\n",
    "dec_scores = -cross_val_score(dec_reg, X_train_prep, train_labels, scoring=\"neg_root_mean_squared_error\", cv=3)"
   ]
  },
  {
   "cell_type": "code",
   "execution_count": 770,
   "id": "mexican-sentence",
   "metadata": {},
   "outputs": [
    {
     "data": {
      "text/plain": [
       "array([0.88587036, 0.86635868, 0.90641797])"
      ]
     },
     "execution_count": 770,
     "metadata": {},
     "output_type": "execute_result"
    }
   ],
   "source": [
    "dec_scores"
   ]
  },
  {
   "cell_type": "code",
   "execution_count": 771,
   "id": "higher-stockholm",
   "metadata": {},
   "outputs": [],
   "source": [
    "from sklearn.ensemble import RandomForestRegressor\n",
    "\n",
    "for_reg = RandomForestRegressor()\n",
    "\n",
    "for_scores = -cross_val_score(for_reg, X_train_prep, train_labels, scoring=\"neg_root_mean_squared_error\", cv=3)"
   ]
  },
  {
   "cell_type": "code",
   "execution_count": 772,
   "id": "pointed-calibration",
   "metadata": {},
   "outputs": [
    {
     "data": {
      "text/plain": [
       "array([0.6215578 , 0.63382258, 0.66413199])"
      ]
     },
     "execution_count": 772,
     "metadata": {},
     "output_type": "execute_result"
    }
   ],
   "source": [
    "for_scores"
   ]
  },
  {
   "cell_type": "code",
   "execution_count": 773,
   "id": "requested-weapon",
   "metadata": {},
   "outputs": [],
   "source": [
    "from sklearn.model_selection import GridSearchCV\n",
    "\n",
    "for_params = {\n",
    "    \"n_estimators\":[2,4,8,16,32,64,128,256],\n",
    "    \"bootstrap\":[True, False]\n",
    "}\n",
    "\n",
    "for_grid = GridSearchCV(for_reg, for_params, scoring=\"neg_root_mean_squared_error\", cv=3, return_train_score=True)"
   ]
  },
  {
   "cell_type": "code",
   "execution_count": 774,
   "id": "electric-oracle",
   "metadata": {},
   "outputs": [
    {
     "data": {
      "text/plain": [
       "GridSearchCV(cv=3, estimator=RandomForestRegressor(),\n",
       "             param_grid={'bootstrap': [True, False],\n",
       "                         'n_estimators': [2, 4, 8, 16, 32, 64, 128, 256]},\n",
       "             return_train_score=True, scoring='neg_root_mean_squared_error')"
      ]
     },
     "execution_count": 774,
     "metadata": {},
     "output_type": "execute_result"
    }
   ],
   "source": [
    "for_grid.fit(X_train_prep, train_labels)"
   ]
  },
  {
   "cell_type": "code",
   "execution_count": 775,
   "id": "according-insertion",
   "metadata": {},
   "outputs": [
    {
     "data": {
      "text/html": [
       "<div>\n",
       "<style scoped>\n",
       "    .dataframe tbody tr th:only-of-type {\n",
       "        vertical-align: middle;\n",
       "    }\n",
       "\n",
       "    .dataframe tbody tr th {\n",
       "        vertical-align: top;\n",
       "    }\n",
       "\n",
       "    .dataframe thead th {\n",
       "        text-align: right;\n",
       "    }\n",
       "</style>\n",
       "<table border=\"1\" class=\"dataframe\">\n",
       "  <thead>\n",
       "    <tr style=\"text-align: right;\">\n",
       "      <th></th>\n",
       "      <th>params</th>\n",
       "      <th>mean_test_score</th>\n",
       "      <th>std_test_score</th>\n",
       "    </tr>\n",
       "  </thead>\n",
       "  <tbody>\n",
       "    <tr>\n",
       "      <th>7</th>\n",
       "      <td>{'bootstrap': True, 'n_estimators': 256}</td>\n",
       "      <td>0.637089</td>\n",
       "      <td>0.016687</td>\n",
       "    </tr>\n",
       "    <tr>\n",
       "      <th>5</th>\n",
       "      <td>{'bootstrap': True, 'n_estimators': 64}</td>\n",
       "      <td>0.639930</td>\n",
       "      <td>0.016973</td>\n",
       "    </tr>\n",
       "    <tr>\n",
       "      <th>6</th>\n",
       "      <td>{'bootstrap': True, 'n_estimators': 128}</td>\n",
       "      <td>0.640626</td>\n",
       "      <td>0.016325</td>\n",
       "    </tr>\n",
       "    <tr>\n",
       "      <th>4</th>\n",
       "      <td>{'bootstrap': True, 'n_estimators': 32}</td>\n",
       "      <td>0.647036</td>\n",
       "      <td>0.018834</td>\n",
       "    </tr>\n",
       "    <tr>\n",
       "      <th>3</th>\n",
       "      <td>{'bootstrap': True, 'n_estimators': 16}</td>\n",
       "      <td>0.658246</td>\n",
       "      <td>0.019311</td>\n",
       "    </tr>\n",
       "    <tr>\n",
       "      <th>2</th>\n",
       "      <td>{'bootstrap': True, 'n_estimators': 8}</td>\n",
       "      <td>0.675953</td>\n",
       "      <td>0.016342</td>\n",
       "    </tr>\n",
       "    <tr>\n",
       "      <th>1</th>\n",
       "      <td>{'bootstrap': True, 'n_estimators': 4}</td>\n",
       "      <td>0.723458</td>\n",
       "      <td>0.021188</td>\n",
       "    </tr>\n",
       "    <tr>\n",
       "      <th>0</th>\n",
       "      <td>{'bootstrap': True, 'n_estimators': 2}</td>\n",
       "      <td>0.790394</td>\n",
       "      <td>0.003678</td>\n",
       "    </tr>\n",
       "    <tr>\n",
       "      <th>12</th>\n",
       "      <td>{'bootstrap': False, 'n_estimators': 32}</td>\n",
       "      <td>0.844922</td>\n",
       "      <td>0.014239</td>\n",
       "    </tr>\n",
       "    <tr>\n",
       "      <th>11</th>\n",
       "      <td>{'bootstrap': False, 'n_estimators': 16}</td>\n",
       "      <td>0.845888</td>\n",
       "      <td>0.015420</td>\n",
       "    </tr>\n",
       "    <tr>\n",
       "      <th>14</th>\n",
       "      <td>{'bootstrap': False, 'n_estimators': 128}</td>\n",
       "      <td>0.845927</td>\n",
       "      <td>0.014373</td>\n",
       "    </tr>\n",
       "    <tr>\n",
       "      <th>15</th>\n",
       "      <td>{'bootstrap': False, 'n_estimators': 256}</td>\n",
       "      <td>0.845950</td>\n",
       "      <td>0.013783</td>\n",
       "    </tr>\n",
       "    <tr>\n",
       "      <th>13</th>\n",
       "      <td>{'bootstrap': False, 'n_estimators': 64}</td>\n",
       "      <td>0.846295</td>\n",
       "      <td>0.013834</td>\n",
       "    </tr>\n",
       "    <tr>\n",
       "      <th>10</th>\n",
       "      <td>{'bootstrap': False, 'n_estimators': 8}</td>\n",
       "      <td>0.854290</td>\n",
       "      <td>0.013009</td>\n",
       "    </tr>\n",
       "    <tr>\n",
       "      <th>9</th>\n",
       "      <td>{'bootstrap': False, 'n_estimators': 4}</td>\n",
       "      <td>0.858219</td>\n",
       "      <td>0.013483</td>\n",
       "    </tr>\n",
       "    <tr>\n",
       "      <th>8</th>\n",
       "      <td>{'bootstrap': False, 'n_estimators': 2}</td>\n",
       "      <td>0.869153</td>\n",
       "      <td>0.010227</td>\n",
       "    </tr>\n",
       "  </tbody>\n",
       "</table>\n",
       "</div>"
      ],
      "text/plain": [
       "                                       params mean_test_score std_test_score\n",
       "7    {'bootstrap': True, 'n_estimators': 256}        0.637089       0.016687\n",
       "5     {'bootstrap': True, 'n_estimators': 64}        0.639930       0.016973\n",
       "6    {'bootstrap': True, 'n_estimators': 128}        0.640626       0.016325\n",
       "4     {'bootstrap': True, 'n_estimators': 32}        0.647036       0.018834\n",
       "3     {'bootstrap': True, 'n_estimators': 16}        0.658246       0.019311\n",
       "2      {'bootstrap': True, 'n_estimators': 8}        0.675953       0.016342\n",
       "1      {'bootstrap': True, 'n_estimators': 4}        0.723458       0.021188\n",
       "0      {'bootstrap': True, 'n_estimators': 2}        0.790394       0.003678\n",
       "12   {'bootstrap': False, 'n_estimators': 32}        0.844922       0.014239\n",
       "11   {'bootstrap': False, 'n_estimators': 16}        0.845888       0.015420\n",
       "14  {'bootstrap': False, 'n_estimators': 128}        0.845927       0.014373\n",
       "15  {'bootstrap': False, 'n_estimators': 256}        0.845950       0.013783\n",
       "13   {'bootstrap': False, 'n_estimators': 64}        0.846295       0.013834\n",
       "10    {'bootstrap': False, 'n_estimators': 8}        0.854290       0.013009\n",
       "9     {'bootstrap': False, 'n_estimators': 4}        0.858219       0.013483\n",
       "8     {'bootstrap': False, 'n_estimators': 2}        0.869153       0.010227"
      ]
     },
     "execution_count": 775,
     "metadata": {},
     "output_type": "execute_result"
    }
   ],
   "source": [
    "pd.DataFrame(np.c_[for_grid.cv_results_[\"params\"],-for_grid.cv_results_[\"mean_test_score\"],\n",
    "                   for_grid.cv_results_[\"std_test_score\"]],\n",
    "             columns=[\"params\",\"mean_test_score\",\"std_test_score\"]).sort_values(by=\"mean_test_score\")"
   ]
  },
  {
   "cell_type": "code",
   "execution_count": 678,
   "id": "hispanic-estimate",
   "metadata": {},
   "outputs": [],
   "source": [
    "from sklearn.svm import SVR\n",
    "\n",
    "svm_reg = SVR()\n",
    "\n",
    "\n",
    "svr_params={\n",
    "    \"kernel\":[\"poly\",\"rbf\",\"sigmoid\"],\n",
    "    \"degree\":[2,4,8,16],\n",
    "    \"C\":[0.5,1,2,4,8]\n",
    "}\n",
    "\n",
    "svr_grid = GridSearchCV(svm_reg, svr_params, scoring=\"neg_root_mean_squared_error\", cv=3, return_train_score=True)"
   ]
  },
  {
   "cell_type": "code",
   "execution_count": 679,
   "id": "included-contrary",
   "metadata": {},
   "outputs": [
    {
     "data": {
      "text/plain": [
       "GridSearchCV(cv=3, estimator=SVR(),\n",
       "             param_grid={'C': [0.5, 1, 2, 4, 8], 'degree': [2, 4, 8, 16],\n",
       "                         'kernel': ['poly', 'rbf', 'sigmoid']},\n",
       "             return_train_score=True, scoring='neg_root_mean_squared_error')"
      ]
     },
     "execution_count": 679,
     "metadata": {},
     "output_type": "execute_result"
    }
   ],
   "source": [
    "svr_grid.fit(X_train_prep, train_labels)"
   ]
  },
  {
   "cell_type": "code",
   "execution_count": 680,
   "id": "informal-natural",
   "metadata": {},
   "outputs": [
    {
     "data": {
      "text/html": [
       "<div>\n",
       "<style scoped>\n",
       "    .dataframe tbody tr th:only-of-type {\n",
       "        vertical-align: middle;\n",
       "    }\n",
       "\n",
       "    .dataframe tbody tr th {\n",
       "        vertical-align: top;\n",
       "    }\n",
       "\n",
       "    .dataframe thead th {\n",
       "        text-align: right;\n",
       "    }\n",
       "</style>\n",
       "<table border=\"1\" class=\"dataframe\">\n",
       "  <thead>\n",
       "    <tr style=\"text-align: right;\">\n",
       "      <th></th>\n",
       "      <th>params</th>\n",
       "      <th>mean_test_score</th>\n",
       "      <th>std_test_score</th>\n",
       "    </tr>\n",
       "  </thead>\n",
       "  <tbody>\n",
       "    <tr>\n",
       "      <th>34</th>\n",
       "      <td>{'C': 2, 'degree': 16, 'kernel': 'rbf'}</td>\n",
       "      <td>0.691422</td>\n",
       "      <td>0.024666</td>\n",
       "    </tr>\n",
       "    <tr>\n",
       "      <th>25</th>\n",
       "      <td>{'C': 2, 'degree': 2, 'kernel': 'rbf'}</td>\n",
       "      <td>0.691422</td>\n",
       "      <td>0.024666</td>\n",
       "    </tr>\n",
       "    <tr>\n",
       "      <th>28</th>\n",
       "      <td>{'C': 2, 'degree': 4, 'kernel': 'rbf'}</td>\n",
       "      <td>0.691422</td>\n",
       "      <td>0.024666</td>\n",
       "    </tr>\n",
       "    <tr>\n",
       "      <th>31</th>\n",
       "      <td>{'C': 2, 'degree': 8, 'kernel': 'rbf'}</td>\n",
       "      <td>0.691422</td>\n",
       "      <td>0.024666</td>\n",
       "    </tr>\n",
       "    <tr>\n",
       "      <th>37</th>\n",
       "      <td>{'C': 4, 'degree': 2, 'kernel': 'rbf'}</td>\n",
       "      <td>0.691855</td>\n",
       "      <td>0.023988</td>\n",
       "    </tr>\n",
       "    <tr>\n",
       "      <th>40</th>\n",
       "      <td>{'C': 4, 'degree': 4, 'kernel': 'rbf'}</td>\n",
       "      <td>0.691855</td>\n",
       "      <td>0.023988</td>\n",
       "    </tr>\n",
       "    <tr>\n",
       "      <th>43</th>\n",
       "      <td>{'C': 4, 'degree': 8, 'kernel': 'rbf'}</td>\n",
       "      <td>0.691855</td>\n",
       "      <td>0.023988</td>\n",
       "    </tr>\n",
       "    <tr>\n",
       "      <th>46</th>\n",
       "      <td>{'C': 4, 'degree': 16, 'kernel': 'rbf'}</td>\n",
       "      <td>0.691855</td>\n",
       "      <td>0.023988</td>\n",
       "    </tr>\n",
       "    <tr>\n",
       "      <th>22</th>\n",
       "      <td>{'C': 1, 'degree': 16, 'kernel': 'rbf'}</td>\n",
       "      <td>0.692377</td>\n",
       "      <td>0.024835</td>\n",
       "    </tr>\n",
       "    <tr>\n",
       "      <th>16</th>\n",
       "      <td>{'C': 1, 'degree': 4, 'kernel': 'rbf'}</td>\n",
       "      <td>0.692377</td>\n",
       "      <td>0.024835</td>\n",
       "    </tr>\n",
       "    <tr>\n",
       "      <th>13</th>\n",
       "      <td>{'C': 1, 'degree': 2, 'kernel': 'rbf'}</td>\n",
       "      <td>0.692377</td>\n",
       "      <td>0.024835</td>\n",
       "    </tr>\n",
       "    <tr>\n",
       "      <th>19</th>\n",
       "      <td>{'C': 1, 'degree': 8, 'kernel': 'rbf'}</td>\n",
       "      <td>0.692377</td>\n",
       "      <td>0.024835</td>\n",
       "    </tr>\n",
       "    <tr>\n",
       "      <th>10</th>\n",
       "      <td>{'C': 0.5, 'degree': 16, 'kernel': 'rbf'}</td>\n",
       "      <td>0.694890</td>\n",
       "      <td>0.023608</td>\n",
       "    </tr>\n",
       "    <tr>\n",
       "      <th>7</th>\n",
       "      <td>{'C': 0.5, 'degree': 8, 'kernel': 'rbf'}</td>\n",
       "      <td>0.694890</td>\n",
       "      <td>0.023608</td>\n",
       "    </tr>\n",
       "    <tr>\n",
       "      <th>4</th>\n",
       "      <td>{'C': 0.5, 'degree': 4, 'kernel': 'rbf'}</td>\n",
       "      <td>0.694890</td>\n",
       "      <td>0.023608</td>\n",
       "    </tr>\n",
       "    <tr>\n",
       "      <th>1</th>\n",
       "      <td>{'C': 0.5, 'degree': 2, 'kernel': 'rbf'}</td>\n",
       "      <td>0.694890</td>\n",
       "      <td>0.023608</td>\n",
       "    </tr>\n",
       "    <tr>\n",
       "      <th>52</th>\n",
       "      <td>{'C': 8, 'degree': 4, 'kernel': 'rbf'}</td>\n",
       "      <td>0.694981</td>\n",
       "      <td>0.022490</td>\n",
       "    </tr>\n",
       "    <tr>\n",
       "      <th>58</th>\n",
       "      <td>{'C': 8, 'degree': 16, 'kernel': 'rbf'}</td>\n",
       "      <td>0.694981</td>\n",
       "      <td>0.022490</td>\n",
       "    </tr>\n",
       "    <tr>\n",
       "      <th>55</th>\n",
       "      <td>{'C': 8, 'degree': 8, 'kernel': 'rbf'}</td>\n",
       "      <td>0.694981</td>\n",
       "      <td>0.022490</td>\n",
       "    </tr>\n",
       "    <tr>\n",
       "      <th>49</th>\n",
       "      <td>{'C': 8, 'degree': 2, 'kernel': 'rbf'}</td>\n",
       "      <td>0.694981</td>\n",
       "      <td>0.022490</td>\n",
       "    </tr>\n",
       "    <tr>\n",
       "      <th>12</th>\n",
       "      <td>{'C': 1, 'degree': 2, 'kernel': 'poly'}</td>\n",
       "      <td>0.723030</td>\n",
       "      <td>0.022680</td>\n",
       "    </tr>\n",
       "    <tr>\n",
       "      <th>0</th>\n",
       "      <td>{'C': 0.5, 'degree': 2, 'kernel': 'poly'}</td>\n",
       "      <td>0.724967</td>\n",
       "      <td>0.021759</td>\n",
       "    </tr>\n",
       "    <tr>\n",
       "      <th>24</th>\n",
       "      <td>{'C': 2, 'degree': 2, 'kernel': 'poly'}</td>\n",
       "      <td>0.728172</td>\n",
       "      <td>0.025470</td>\n",
       "    </tr>\n",
       "    <tr>\n",
       "      <th>36</th>\n",
       "      <td>{'C': 4, 'degree': 2, 'kernel': 'poly'}</td>\n",
       "      <td>0.741273</td>\n",
       "      <td>0.038699</td>\n",
       "    </tr>\n",
       "    <tr>\n",
       "      <th>48</th>\n",
       "      <td>{'C': 8, 'degree': 2, 'kernel': 'poly'}</td>\n",
       "      <td>0.759921</td>\n",
       "      <td>0.062386</td>\n",
       "    </tr>\n",
       "    <tr>\n",
       "      <th>39</th>\n",
       "      <td>{'C': 4, 'degree': 4, 'kernel': 'poly'}</td>\n",
       "      <td>2.065863</td>\n",
       "      <td>1.546671</td>\n",
       "    </tr>\n",
       "    <tr>\n",
       "      <th>51</th>\n",
       "      <td>{'C': 8, 'degree': 4, 'kernel': 'poly'}</td>\n",
       "      <td>2.467765</td>\n",
       "      <td>2.068070</td>\n",
       "    </tr>\n",
       "    <tr>\n",
       "      <th>3</th>\n",
       "      <td>{'C': 0.5, 'degree': 4, 'kernel': 'poly'}</td>\n",
       "      <td>2.494798</td>\n",
       "      <td>2.151440</td>\n",
       "    </tr>\n",
       "    <tr>\n",
       "      <th>15</th>\n",
       "      <td>{'C': 1, 'degree': 4, 'kernel': 'poly'}</td>\n",
       "      <td>3.287638</td>\n",
       "      <td>3.058476</td>\n",
       "    </tr>\n",
       "    <tr>\n",
       "      <th>27</th>\n",
       "      <td>{'C': 2, 'degree': 4, 'kernel': 'poly'}</td>\n",
       "      <td>3.941426</td>\n",
       "      <td>3.828955</td>\n",
       "    </tr>\n",
       "    <tr>\n",
       "      <th>11</th>\n",
       "      <td>{'C': 0.5, 'degree': 16, 'kernel': 'sigmoid'}</td>\n",
       "      <td>16.978674</td>\n",
       "      <td>0.435594</td>\n",
       "    </tr>\n",
       "    <tr>\n",
       "      <th>8</th>\n",
       "      <td>{'C': 0.5, 'degree': 8, 'kernel': 'sigmoid'}</td>\n",
       "      <td>16.978674</td>\n",
       "      <td>0.435594</td>\n",
       "    </tr>\n",
       "    <tr>\n",
       "      <th>5</th>\n",
       "      <td>{'C': 0.5, 'degree': 4, 'kernel': 'sigmoid'}</td>\n",
       "      <td>16.978674</td>\n",
       "      <td>0.435594</td>\n",
       "    </tr>\n",
       "    <tr>\n",
       "      <th>2</th>\n",
       "      <td>{'C': 0.5, 'degree': 2, 'kernel': 'sigmoid'}</td>\n",
       "      <td>16.978674</td>\n",
       "      <td>0.435594</td>\n",
       "    </tr>\n",
       "    <tr>\n",
       "      <th>23</th>\n",
       "      <td>{'C': 1, 'degree': 16, 'kernel': 'sigmoid'}</td>\n",
       "      <td>33.995544</td>\n",
       "      <td>1.008317</td>\n",
       "    </tr>\n",
       "    <tr>\n",
       "      <th>17</th>\n",
       "      <td>{'C': 1, 'degree': 4, 'kernel': 'sigmoid'}</td>\n",
       "      <td>33.995544</td>\n",
       "      <td>1.008317</td>\n",
       "    </tr>\n",
       "    <tr>\n",
       "      <th>14</th>\n",
       "      <td>{'C': 1, 'degree': 2, 'kernel': 'sigmoid'}</td>\n",
       "      <td>33.995544</td>\n",
       "      <td>1.008317</td>\n",
       "    </tr>\n",
       "    <tr>\n",
       "      <th>20</th>\n",
       "      <td>{'C': 1, 'degree': 8, 'kernel': 'sigmoid'}</td>\n",
       "      <td>33.995544</td>\n",
       "      <td>1.008317</td>\n",
       "    </tr>\n",
       "    <tr>\n",
       "      <th>29</th>\n",
       "      <td>{'C': 2, 'degree': 4, 'kernel': 'sigmoid'}</td>\n",
       "      <td>67.917387</td>\n",
       "      <td>2.044595</td>\n",
       "    </tr>\n",
       "    <tr>\n",
       "      <th>35</th>\n",
       "      <td>{'C': 2, 'degree': 16, 'kernel': 'sigmoid'}</td>\n",
       "      <td>67.917387</td>\n",
       "      <td>2.044595</td>\n",
       "    </tr>\n",
       "    <tr>\n",
       "      <th>32</th>\n",
       "      <td>{'C': 2, 'degree': 8, 'kernel': 'sigmoid'}</td>\n",
       "      <td>67.917387</td>\n",
       "      <td>2.044595</td>\n",
       "    </tr>\n",
       "    <tr>\n",
       "      <th>26</th>\n",
       "      <td>{'C': 2, 'degree': 2, 'kernel': 'sigmoid'}</td>\n",
       "      <td>67.917387</td>\n",
       "      <td>2.044595</td>\n",
       "    </tr>\n",
       "    <tr>\n",
       "      <th>41</th>\n",
       "      <td>{'C': 4, 'degree': 4, 'kernel': 'sigmoid'}</td>\n",
       "      <td>135.852941</td>\n",
       "      <td>3.951353</td>\n",
       "    </tr>\n",
       "    <tr>\n",
       "      <th>44</th>\n",
       "      <td>{'C': 4, 'degree': 8, 'kernel': 'sigmoid'}</td>\n",
       "      <td>135.852941</td>\n",
       "      <td>3.951353</td>\n",
       "    </tr>\n",
       "    <tr>\n",
       "      <th>38</th>\n",
       "      <td>{'C': 4, 'degree': 2, 'kernel': 'sigmoid'}</td>\n",
       "      <td>135.852941</td>\n",
       "      <td>3.951353</td>\n",
       "    </tr>\n",
       "    <tr>\n",
       "      <th>47</th>\n",
       "      <td>{'C': 4, 'degree': 16, 'kernel': 'sigmoid'}</td>\n",
       "      <td>135.852941</td>\n",
       "      <td>3.951353</td>\n",
       "    </tr>\n",
       "    <tr>\n",
       "      <th>56</th>\n",
       "      <td>{'C': 8, 'degree': 8, 'kernel': 'sigmoid'}</td>\n",
       "      <td>271.812749</td>\n",
       "      <td>7.889695</td>\n",
       "    </tr>\n",
       "    <tr>\n",
       "      <th>53</th>\n",
       "      <td>{'C': 8, 'degree': 4, 'kernel': 'sigmoid'}</td>\n",
       "      <td>271.812749</td>\n",
       "      <td>7.889695</td>\n",
       "    </tr>\n",
       "    <tr>\n",
       "      <th>50</th>\n",
       "      <td>{'C': 8, 'degree': 2, 'kernel': 'sigmoid'}</td>\n",
       "      <td>271.812749</td>\n",
       "      <td>7.889695</td>\n",
       "    </tr>\n",
       "    <tr>\n",
       "      <th>59</th>\n",
       "      <td>{'C': 8, 'degree': 16, 'kernel': 'sigmoid'}</td>\n",
       "      <td>271.812749</td>\n",
       "      <td>7.889695</td>\n",
       "    </tr>\n",
       "    <tr>\n",
       "      <th>6</th>\n",
       "      <td>{'C': 0.5, 'degree': 8, 'kernel': 'poly'}</td>\n",
       "      <td>905.356014</td>\n",
       "      <td>902.932009</td>\n",
       "    </tr>\n",
       "    <tr>\n",
       "      <th>18</th>\n",
       "      <td>{'C': 1, 'degree': 8, 'kernel': 'poly'}</td>\n",
       "      <td>936.643639</td>\n",
       "      <td>945.938644</td>\n",
       "    </tr>\n",
       "    <tr>\n",
       "      <th>30</th>\n",
       "      <td>{'C': 2, 'degree': 8, 'kernel': 'poly'}</td>\n",
       "      <td>1574.983856</td>\n",
       "      <td>1965.153939</td>\n",
       "    </tr>\n",
       "    <tr>\n",
       "      <th>42</th>\n",
       "      <td>{'C': 4, 'degree': 8, 'kernel': 'poly'}</td>\n",
       "      <td>5953.202024</td>\n",
       "      <td>7834.386826</td>\n",
       "    </tr>\n",
       "    <tr>\n",
       "      <th>54</th>\n",
       "      <td>{'C': 8, 'degree': 8, 'kernel': 'poly'}</td>\n",
       "      <td>9215.546151</td>\n",
       "      <td>12422.345861</td>\n",
       "    </tr>\n",
       "    <tr>\n",
       "      <th>9</th>\n",
       "      <td>{'C': 0.5, 'degree': 16, 'kernel': 'poly'}</td>\n",
       "      <td>556045462.923583</td>\n",
       "      <td>703390047.904273</td>\n",
       "    </tr>\n",
       "    <tr>\n",
       "      <th>21</th>\n",
       "      <td>{'C': 1, 'degree': 16, 'kernel': 'poly'}</td>\n",
       "      <td>1345377718.771842</td>\n",
       "      <td>1820370172.203377</td>\n",
       "    </tr>\n",
       "    <tr>\n",
       "      <th>33</th>\n",
       "      <td>{'C': 2, 'degree': 16, 'kernel': 'poly'}</td>\n",
       "      <td>2968627790.712671</td>\n",
       "      <td>4186666449.925430</td>\n",
       "    </tr>\n",
       "    <tr>\n",
       "      <th>45</th>\n",
       "      <td>{'C': 4, 'degree': 16, 'kernel': 'poly'}</td>\n",
       "      <td>5406896972.785593</td>\n",
       "      <td>7623359324.070089</td>\n",
       "    </tr>\n",
       "    <tr>\n",
       "      <th>57</th>\n",
       "      <td>{'C': 8, 'degree': 16, 'kernel': 'poly'}</td>\n",
       "      <td>6595509044.132854</td>\n",
       "      <td>9262531896.046682</td>\n",
       "    </tr>\n",
       "  </tbody>\n",
       "</table>\n",
       "</div>"
      ],
      "text/plain": [
       "                                           params    mean_test_score  \\\n",
       "34        {'C': 2, 'degree': 16, 'kernel': 'rbf'}           0.691422   \n",
       "25         {'C': 2, 'degree': 2, 'kernel': 'rbf'}           0.691422   \n",
       "28         {'C': 2, 'degree': 4, 'kernel': 'rbf'}           0.691422   \n",
       "31         {'C': 2, 'degree': 8, 'kernel': 'rbf'}           0.691422   \n",
       "37         {'C': 4, 'degree': 2, 'kernel': 'rbf'}           0.691855   \n",
       "40         {'C': 4, 'degree': 4, 'kernel': 'rbf'}           0.691855   \n",
       "43         {'C': 4, 'degree': 8, 'kernel': 'rbf'}           0.691855   \n",
       "46        {'C': 4, 'degree': 16, 'kernel': 'rbf'}           0.691855   \n",
       "22        {'C': 1, 'degree': 16, 'kernel': 'rbf'}           0.692377   \n",
       "16         {'C': 1, 'degree': 4, 'kernel': 'rbf'}           0.692377   \n",
       "13         {'C': 1, 'degree': 2, 'kernel': 'rbf'}           0.692377   \n",
       "19         {'C': 1, 'degree': 8, 'kernel': 'rbf'}           0.692377   \n",
       "10      {'C': 0.5, 'degree': 16, 'kernel': 'rbf'}           0.694890   \n",
       "7        {'C': 0.5, 'degree': 8, 'kernel': 'rbf'}           0.694890   \n",
       "4        {'C': 0.5, 'degree': 4, 'kernel': 'rbf'}           0.694890   \n",
       "1        {'C': 0.5, 'degree': 2, 'kernel': 'rbf'}           0.694890   \n",
       "52         {'C': 8, 'degree': 4, 'kernel': 'rbf'}           0.694981   \n",
       "58        {'C': 8, 'degree': 16, 'kernel': 'rbf'}           0.694981   \n",
       "55         {'C': 8, 'degree': 8, 'kernel': 'rbf'}           0.694981   \n",
       "49         {'C': 8, 'degree': 2, 'kernel': 'rbf'}           0.694981   \n",
       "12        {'C': 1, 'degree': 2, 'kernel': 'poly'}           0.723030   \n",
       "0       {'C': 0.5, 'degree': 2, 'kernel': 'poly'}           0.724967   \n",
       "24        {'C': 2, 'degree': 2, 'kernel': 'poly'}           0.728172   \n",
       "36        {'C': 4, 'degree': 2, 'kernel': 'poly'}           0.741273   \n",
       "48        {'C': 8, 'degree': 2, 'kernel': 'poly'}           0.759921   \n",
       "39        {'C': 4, 'degree': 4, 'kernel': 'poly'}           2.065863   \n",
       "51        {'C': 8, 'degree': 4, 'kernel': 'poly'}           2.467765   \n",
       "3       {'C': 0.5, 'degree': 4, 'kernel': 'poly'}           2.494798   \n",
       "15        {'C': 1, 'degree': 4, 'kernel': 'poly'}           3.287638   \n",
       "27        {'C': 2, 'degree': 4, 'kernel': 'poly'}           3.941426   \n",
       "11  {'C': 0.5, 'degree': 16, 'kernel': 'sigmoid'}          16.978674   \n",
       "8    {'C': 0.5, 'degree': 8, 'kernel': 'sigmoid'}          16.978674   \n",
       "5    {'C': 0.5, 'degree': 4, 'kernel': 'sigmoid'}          16.978674   \n",
       "2    {'C': 0.5, 'degree': 2, 'kernel': 'sigmoid'}          16.978674   \n",
       "23    {'C': 1, 'degree': 16, 'kernel': 'sigmoid'}          33.995544   \n",
       "17     {'C': 1, 'degree': 4, 'kernel': 'sigmoid'}          33.995544   \n",
       "14     {'C': 1, 'degree': 2, 'kernel': 'sigmoid'}          33.995544   \n",
       "20     {'C': 1, 'degree': 8, 'kernel': 'sigmoid'}          33.995544   \n",
       "29     {'C': 2, 'degree': 4, 'kernel': 'sigmoid'}          67.917387   \n",
       "35    {'C': 2, 'degree': 16, 'kernel': 'sigmoid'}          67.917387   \n",
       "32     {'C': 2, 'degree': 8, 'kernel': 'sigmoid'}          67.917387   \n",
       "26     {'C': 2, 'degree': 2, 'kernel': 'sigmoid'}          67.917387   \n",
       "41     {'C': 4, 'degree': 4, 'kernel': 'sigmoid'}         135.852941   \n",
       "44     {'C': 4, 'degree': 8, 'kernel': 'sigmoid'}         135.852941   \n",
       "38     {'C': 4, 'degree': 2, 'kernel': 'sigmoid'}         135.852941   \n",
       "47    {'C': 4, 'degree': 16, 'kernel': 'sigmoid'}         135.852941   \n",
       "56     {'C': 8, 'degree': 8, 'kernel': 'sigmoid'}         271.812749   \n",
       "53     {'C': 8, 'degree': 4, 'kernel': 'sigmoid'}         271.812749   \n",
       "50     {'C': 8, 'degree': 2, 'kernel': 'sigmoid'}         271.812749   \n",
       "59    {'C': 8, 'degree': 16, 'kernel': 'sigmoid'}         271.812749   \n",
       "6       {'C': 0.5, 'degree': 8, 'kernel': 'poly'}         905.356014   \n",
       "18        {'C': 1, 'degree': 8, 'kernel': 'poly'}         936.643639   \n",
       "30        {'C': 2, 'degree': 8, 'kernel': 'poly'}        1574.983856   \n",
       "42        {'C': 4, 'degree': 8, 'kernel': 'poly'}        5953.202024   \n",
       "54        {'C': 8, 'degree': 8, 'kernel': 'poly'}        9215.546151   \n",
       "9      {'C': 0.5, 'degree': 16, 'kernel': 'poly'}   556045462.923583   \n",
       "21       {'C': 1, 'degree': 16, 'kernel': 'poly'}  1345377718.771842   \n",
       "33       {'C': 2, 'degree': 16, 'kernel': 'poly'}  2968627790.712671   \n",
       "45       {'C': 4, 'degree': 16, 'kernel': 'poly'}  5406896972.785593   \n",
       "57       {'C': 8, 'degree': 16, 'kernel': 'poly'}  6595509044.132854   \n",
       "\n",
       "       std_test_score  \n",
       "34           0.024666  \n",
       "25           0.024666  \n",
       "28           0.024666  \n",
       "31           0.024666  \n",
       "37           0.023988  \n",
       "40           0.023988  \n",
       "43           0.023988  \n",
       "46           0.023988  \n",
       "22           0.024835  \n",
       "16           0.024835  \n",
       "13           0.024835  \n",
       "19           0.024835  \n",
       "10           0.023608  \n",
       "7            0.023608  \n",
       "4            0.023608  \n",
       "1            0.023608  \n",
       "52           0.022490  \n",
       "58           0.022490  \n",
       "55           0.022490  \n",
       "49           0.022490  \n",
       "12           0.022680  \n",
       "0            0.021759  \n",
       "24           0.025470  \n",
       "36           0.038699  \n",
       "48           0.062386  \n",
       "39           1.546671  \n",
       "51           2.068070  \n",
       "3            2.151440  \n",
       "15           3.058476  \n",
       "27           3.828955  \n",
       "11           0.435594  \n",
       "8            0.435594  \n",
       "5            0.435594  \n",
       "2            0.435594  \n",
       "23           1.008317  \n",
       "17           1.008317  \n",
       "14           1.008317  \n",
       "20           1.008317  \n",
       "29           2.044595  \n",
       "35           2.044595  \n",
       "32           2.044595  \n",
       "26           2.044595  \n",
       "41           3.951353  \n",
       "44           3.951353  \n",
       "38           3.951353  \n",
       "47           3.951353  \n",
       "56           7.889695  \n",
       "53           7.889695  \n",
       "50           7.889695  \n",
       "59           7.889695  \n",
       "6          902.932009  \n",
       "18         945.938644  \n",
       "30        1965.153939  \n",
       "42        7834.386826  \n",
       "54       12422.345861  \n",
       "9    703390047.904273  \n",
       "21  1820370172.203377  \n",
       "33  4186666449.925430  \n",
       "45  7623359324.070089  \n",
       "57  9262531896.046682  "
      ]
     },
     "execution_count": 680,
     "metadata": {},
     "output_type": "execute_result"
    }
   ],
   "source": [
    "pd.DataFrame(np.c_[svr_grid.cv_results_[\"params\"],-svr_grid.cv_results_[\"mean_test_score\"],\n",
    "                   svr_grid.cv_results_[\"std_test_score\"]],\n",
    "             columns=[\"params\",\"mean_test_score\",\"std_test_score\"]).sort_values(by=\"mean_test_score\")"
   ]
  },
  {
   "cell_type": "code",
   "execution_count": 776,
   "id": "threaded-brooklyn",
   "metadata": {},
   "outputs": [],
   "source": [
    "best_model = for_grid.best_estimator_"
   ]
  },
  {
   "cell_type": "code",
   "execution_count": 777,
   "id": "motivated-processing",
   "metadata": {},
   "outputs": [
    {
     "data": {
      "text/plain": [
       "RandomForestRegressor(n_estimators=256)"
      ]
     },
     "execution_count": 777,
     "metadata": {},
     "output_type": "execute_result"
    }
   ],
   "source": [
    "best_model"
   ]
  },
  {
   "cell_type": "code",
   "execution_count": 778,
   "id": "occasional-today",
   "metadata": {},
   "outputs": [],
   "source": [
    "full_pipeline = Pipeline([\n",
    "    (\"preprocessing\",pipeline),\n",
    "    (\"model\",best_model),\n",
    "])"
   ]
  },
  {
   "cell_type": "code",
   "execution_count": null,
   "id": "powered-moment",
   "metadata": {},
   "outputs": [],
   "source": []
  },
  {
   "cell_type": "code",
   "execution_count": 782,
   "id": "domestic-mining",
   "metadata": {},
   "outputs": [],
   "source": [
    "X_test = test.drop(\"quality\",axis=1)\n",
    "test_labels = test[\"quality\"]"
   ]
  },
  {
   "cell_type": "code",
   "execution_count": 783,
   "id": "british-atmosphere",
   "metadata": {},
   "outputs": [],
   "source": [
    "test_predictions = full_pipeline.predict(X_test)"
   ]
  },
  {
   "cell_type": "code",
   "execution_count": 784,
   "id": "informational-valley",
   "metadata": {},
   "outputs": [],
   "source": [
    "errors = pd.DataFrame(np.c_[test_labels,test_predictions,100*abs(test_predictions-test_labels)/test_labels],\n",
    "                      columns=[\"labels\",\"predictions\",\"error\"], index=test.index)"
   ]
  },
  {
   "cell_type": "code",
   "execution_count": 785,
   "id": "cardiac-circumstances",
   "metadata": {},
   "outputs": [
    {
     "data": {
      "text/plain": [
       "7.921136318108974"
      ]
     },
     "execution_count": 785,
     "metadata": {},
     "output_type": "execute_result"
    }
   ],
   "source": [
    "final_error = errors[\"error\"].mean()\n",
    "final_error"
   ]
  },
  {
   "cell_type": "code",
   "execution_count": null,
   "id": "perceived-stylus",
   "metadata": {},
   "outputs": [],
   "source": []
  },
  {
   "cell_type": "code",
   "execution_count": 786,
   "id": "desirable-longitude",
   "metadata": {},
   "outputs": [],
   "source": [
    "final_columns = [\"fixed acidity\",\"volatile acidity\",\"citric acid\",\"residual sugar\",\"chlorides\",\"density\",\"pH\",\n",
    "                 \"sulphates\",\"alcohol\",\"ratio free to total sulfur dioxide\",\"type\"]"
   ]
  },
  {
   "cell_type": "code",
   "execution_count": 787,
   "id": "similar-force",
   "metadata": {},
   "outputs": [
    {
     "data": {
      "text/plain": [
       "fixed acidity                         0.060151\n",
       "volatile acidity                      0.134369\n",
       "citric acid                           0.065690\n",
       "residual sugar                        0.074564\n",
       "chlorides                             0.069147\n",
       "density                               0.063866\n",
       "pH                                    0.074873\n",
       "sulphates                             0.077960\n",
       "alcohol                               0.258022\n",
       "ratio free to total sulfur dioxide    0.120101\n",
       "type                                  0.001257\n",
       "dtype: float64"
      ]
     },
     "execution_count": 787,
     "metadata": {},
     "output_type": "execute_result"
    }
   ],
   "source": [
    "pd.Series(full_pipeline[\"model\"].feature_importances_,final_columns)"
   ]
  },
  {
   "cell_type": "code",
   "execution_count": 798,
   "id": "geographic-cradle",
   "metadata": {},
   "outputs": [
    {
     "data": {
      "text/plain": [
       "fixed acidity          -0.076743\n",
       "volatile acidity       -0.265699\n",
       "citric acid             0.085532\n",
       "residual sugar         -0.036980\n",
       "chlorides              -0.200666\n",
       "free sulfur dioxide     0.055463\n",
       "total sulfur dioxide   -0.041385\n",
       "density                -0.305858\n",
       "pH                      0.019506\n",
       "sulphates               0.038485\n",
       "alcohol                 0.444319\n",
       "quality                 1.000000\n",
       "Name: quality, dtype: float64"
      ]
     },
     "execution_count": 798,
     "metadata": {},
     "output_type": "execute_result"
    }
   ],
   "source": [
    "data2.corr()[\"quality\"]"
   ]
  },
  {
   "cell_type": "code",
   "execution_count": 800,
   "id": "meaningful-logan",
   "metadata": {},
   "outputs": [
    {
     "data": {
      "text/plain": [
       "<AxesSubplot:>"
      ]
     },
     "execution_count": 800,
     "metadata": {},
     "output_type": "execute_result"
    },
    {
     "data": {
      "image/png": "[encoded data removed]",
      "text/plain": [
       "<Figure size 432x288 with 1 Axes>"
      ]
     },
     "metadata": {
      "needs_background": "light"
     },
     "output_type": "display_data"
    }
   ],
   "source": [
    "data2[\"alcohol\"].hist()"
   ]
  },
  {
   "cell_type": "code",
   "execution_count": null,
   "id": "expected-booth",
   "metadata": {},
   "outputs": [],
   "source": []
  }
 ],
 "metadata": {
  "kernelspec": {
   "display_name": "Python 3",
   "language": "python",
   "name": "python3"
  },
  "language_info": {
   "codemirror_mode": {
    "name": "ipython",
    "version": 3
   },
   "file_extension": ".py",
   "mimetype": "text/x-python",
   "name": "python",
   "nbconvert_exporter": "python",
   "pygments_lexer": "ipython3",
   "version": "3.9.6"
  }
 },
 "nbformat": 4,
 "nbformat_minor": 5
}
